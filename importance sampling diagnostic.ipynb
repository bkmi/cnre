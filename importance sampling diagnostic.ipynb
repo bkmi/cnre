{
 "cells": [
  {
   "cell_type": "code",
   "execution_count": 1,
   "id": "04e6c51d-ec2c-41f7-a453-a768c1ac7674",
   "metadata": {},
   "outputs": [],
   "source": [
    "%load_ext autoreload\n",
    "%autoreload 2"
   ]
  },
  {
   "cell_type": "code",
   "execution_count": 2,
   "id": "064f0039-8dc6-4866-9dad-f0530ab3fae0",
   "metadata": {},
   "outputs": [],
   "source": [
    "from functools import partial\n",
    "from copy import deepcopy\n",
    "from pathlib import Path\n",
    "from typing import Optional, Callable\n",
    "\n",
    "from tqdm.notebook import trange, tqdm\n",
    "\n",
    "import matplotlib.pyplot as plt\n",
    "from matplotlib.colors import BoundaryNorm\n",
    "from matplotlib.ticker import MaxNLocator\n",
    "import seaborn as sns\n",
    "\n",
    "import numpy as np\n",
    "\n",
    "import pandas as pd \n",
    "\n",
    "import scipy\n",
    "import scipy.stats\n",
    "import scipy.integrate\n",
    "\n",
    "import torch\n",
    "import torch.distributions\n",
    "import torch.nn.functional as F\n",
    "\n",
    "import math\n",
    "\n",
    "import pytorch_lightning as pl\n",
    "\n",
    "import sbi\n",
    "import sbi.analysis as analysis\n",
    "from sbi.inference import SNRE_A, SNRE_B, prepare_for_sbi\n",
    "from sbi.utils.get_nn_models import classifier_nn\n",
    "\n",
    "import cnre\n",
    "import cnre.data\n",
    "import cnre.data.benchmark\n",
    "import cnre.algorithms.cnre\n",
    "import cnre.posterior\n",
    "from corner import corner\n",
    "\n",
    "import sklearn"
   ]
  },
  {
   "cell_type": "code",
   "execution_count": 3,
   "id": "830aab2e-e83d-422a-b228-43c73aa9092e",
   "metadata": {},
   "outputs": [],
   "source": [
    "factor = 2\n",
    "figsize = (1.83 * factor, 2.44 * factor * 0.75)"
   ]
  },
  {
   "cell_type": "code",
   "execution_count": 4,
   "id": "9a28b8db-e2a0-44f0-afe7-0829e17c5a42",
   "metadata": {},
   "outputs": [],
   "source": [
    "torch.manual_seed(2)\n",
    "np.random.seed(2)"
   ]
  },
  {
   "cell_type": "code",
   "execution_count": 5,
   "id": "8797f625-5ddb-4d5f-9115-79888d874caa",
   "metadata": {},
   "outputs": [],
   "source": [
    "color_truth = \"orange\"\n",
    "color_gilles = \"blue\"\n",
    "color_durkan = \"green\""
   ]
  },
  {
   "cell_type": "code",
   "execution_count": 6,
   "id": "a517edea-09ab-4b43-bf99-b009aafb28cf",
   "metadata": {},
   "outputs": [],
   "source": [
    "num_total_samples = 40_000\n",
    "num_posterior_samples = 100_000\n",
    "\n",
    "train_kwargs = dict(\n",
    "    training_batch_size=512,\n",
    "    learning_rate=1e-4,\n",
    "    validation_fraction=0.25,\n",
    "    stop_after_epochs=2 ** 31 - 1,\n",
    "    max_num_epochs=60,\n",
    "    # max_num_epochs=10,\n",
    ")\n",
    "\n",
    "classifier_kwargs = dict(\n",
    "    # model='mlp', \n",
    "    model='resnet', \n",
    "    hidden_features=256, \n",
    "    # num_blocks=2,\n",
    "    # dropout_probability=0.0,\n",
    "    # use_batch_norm=True\n",
    ")\n",
    "sample_with = \"rejection\"\n",
    "\n",
    "num_atoms = 10\n",
    "K = num_atoms - 1\n",
    "\n",
    "device = \"cpu\""
   ]
  },
  {
   "cell_type": "code",
   "execution_count": 7,
   "id": "9c414feb-6e2a-4c26-b87e-59a04129e62d",
   "metadata": {},
   "outputs": [],
   "source": [
    "dimension = 1\n",
    "\n",
    "if True:\n",
    "    low = -torch.ones(dimension).mul(3.).sqrt().to(device)\n",
    "    # low = -torch.zeros(dimension).to(device) + 0.001\n",
    "    high = torch.ones(dimension).mul(3.).sqrt().to(device)\n",
    "    limits = torch.stack([low.cpu(), high.cpu()], dim=-1).numpy()\n",
    "    \n",
    "    prior = sbi.utils.BoxUniform(low=low, high=high, device=device)\n",
    "else:\n",
    "    v = torch.ones(dimension).mul(4.).to(device)\n",
    "    limits = torch.stack([-v, v], dim=-1).numpy()\n",
    "    \n",
    "    # prior = torch.distributions.Normal(loc=torch.zeros(1, device=device), scale=torch.ones(1, device=device))\n",
    "    prior = torch.distributions.MultivariateNormal(loc=torch.zeros(dimension, device=device), covariance_matrix=torch.eye(dimension, device=device) )\n",
    "    \n",
    "task = cnre.Gaussian(scale=0.1)\n",
    "# task = cnre.Parabola(scale=0.9)\n",
    "# simulator, prior = prepare_for_sbi(expo_simulator, prior)\n",
    "simulator, prior = prepare_for_sbi(task.simulate, prior)\n",
    "\n",
    "# true_theta = torch.zeros(dimension).to(device).unsqueeze(0)\n",
    "true_theta = torch.ones(dimension).to(device).unsqueeze(0)\n",
    "observation = simulator(true_theta)\n",
    "\n",
    "theta = prior.sample((num_total_samples,)).to(device)\n",
    "x = simulator(theta).to(device)"
   ]
  },
  {
   "cell_type": "markdown",
   "id": "a026ff14-d2ff-485b-923a-cfb052ac9403",
   "metadata": {},
   "source": [
    "## nre-c"
   ]
  },
  {
   "cell_type": "code",
   "execution_count": 8,
   "id": "c8349639-3135-4a13-8ff7-d5560d351592",
   "metadata": {},
   "outputs": [],
   "source": [
    "# get_classifier = classifier_nn(**classifier_kwargs)\n",
    "\n",
    "# inference = SNRE_A(\n",
    "#     prior, \n",
    "#     classifier=get_classifier,\n",
    "#     device=device,\n",
    "# )\n",
    "# _ = inference.append_simulations(theta, x).train(**train_kwargs)\n",
    "\n",
    "# inference._neural_net.load_state_dict(inference._best_model_state_dict)\n",
    "# density_estimator_nrea = deepcopy(inference._neural_net)\n",
    "\n",
    "# posterior = inference.build_posterior(\n",
    "#     density_estimator_nrea,\n",
    "#     sample_with=sample_with,\n",
    "# )\n",
    "\n",
    "# plt.plot(inference.summary[\"validation_log_probs\"])\n",
    "\n",
    "# samples_gilles = posterior.sample((num_posterior_samples,), x=observation.cpu())\n",
    "# name = \"gilles\"\n",
    "# fig, _ = analysis.pairplot(\n",
    "#     samples_gilles.cpu().numpy(), \n",
    "#     figsize=(6,6), \n",
    "#     points=true_theta.cpu().numpy(),\n",
    "#     title=name,\n",
    "#     limits=limits,\n",
    "# )"
   ]
  },
  {
   "cell_type": "code",
   "execution_count": 9,
   "id": "1f9cae8b-0c70-4531-96a4-94d0d2e77737",
   "metadata": {},
   "outputs": [
    {
     "name": "stderr",
     "output_type": "stream",
     "text": [
      "                                                                                                                               \r"
     ]
    },
    {
     "data": {
      "text/plain": [
       "[<matplotlib.lines.Line2D at 0x7fef5234ea60>]"
      ]
     },
     "execution_count": 9,
     "metadata": {},
     "output_type": "execute_result"
    },
    {
     "data": {
      "image/png": "[encoded data removed]",
      "text/plain": [
       "<Figure size 640x480 with 1 Axes>"
      ]
     },
     "metadata": {},
     "output_type": "display_data"
    }
   ],
   "source": [
    "get_classifier = classifier_nn(**classifier_kwargs)\n",
    "\n",
    "dataset = torch.utils.data.TensorDataset(theta, x)\n",
    "train_loader, valid_loader = cnre.data.benchmark.get_dataloaders(\n",
    "    dataset, train_kwargs[\"training_batch_size\"], train_kwargs[\"validation_fraction\"]\n",
    ")\n",
    "\n",
    "for tt, xx in train_loader:\n",
    "    classifier = get_classifier(tt, xx)\n",
    "    break\n",
    "    \n",
    "optimizer = torch.optim.Adam(classifier.parameters(), lr=train_kwargs[\"learning_rate\"])\n",
    "\n",
    "results = cnre.algorithms.cnre.train(\n",
    "    classifier,\n",
    "    optimizer,\n",
    "    train_kwargs[\"max_num_epochs\"],\n",
    "    train_loader,\n",
    "    valid_loader,\n",
    "    None,\n",
    "    None,\n",
    "    K=K,\n",
    ")\n",
    "\n",
    "classifier.load_state_dict(results[\"best_network_state_dict\"])\n",
    "\n",
    "density_estimator_nrec = deepcopy(classifier)\n",
    "\n",
    "posterior_nrec = cnre.posterior.get_sbi_posterior(\n",
    "    ratio_estimator=classifier,\n",
    "    prior=prior,\n",
    "    sample_with=sample_with,\n",
    ")\n",
    "\n",
    "plt.plot(results[\"valid_losses\"])"
   ]
  },
  {
   "cell_type": "code",
   "execution_count": 10,
   "id": "a0b7d5eb-b46c-4c08-938c-3b5ce0d803c6",
   "metadata": {},
   "outputs": [
    {
     "data": {
      "application/vnd.jupyter.widget-view+json": {
       "model_id": "1259d6c8b9674ca9b54172987779dfc5",
       "version_major": 2,
       "version_minor": 0
      },
      "text/plain": [
       "Drawing 100000 posterior samples:   0%|          | 0/100000 [00:00<?, ?it/s]"
      ]
     },
     "metadata": {},
     "output_type": "display_data"
    },
    {
     "name": "stderr",
     "output_type": "stream",
     "text": [
      "/home/ben/sci/fix-cnre/remote/sbi/sbi/analysis/plot.py:176: UserWarning: Creating a tensor from a list of numpy.ndarrays is extremely slow. Please consider converting the list to a single numpy.ndarray with numpy.array() before converting to a tensor. (Triggered internally at /home/conda/feedstock_root/build_artifacts/pytorch-recipe_1673752754831/work/torch/csrc/utils/tensor_new.cpp:230.)\n",
      "  limits = torch.as_tensor(limits)\n"
     ]
    },
    {
     "data": {
      "image/png": "[encoded data removed]",
      "text/plain": [
       "<Figure size 600x600 with 1 Axes>"
      ]
     },
     "metadata": {},
     "output_type": "display_data"
    }
   ],
   "source": [
    "samples_nrec = posterior_nrec.sample((num_posterior_samples,), x=observation.cpu())\n",
    "name = \"nre-c\"\n",
    "fig, _ = analysis.pairplot(\n",
    "    samples_nrec.cpu().numpy(), \n",
    "    figsize=(6,6), \n",
    "    points=true_theta.cpu().numpy(),\n",
    "    title=name,\n",
    "    limits=limits,\n",
    ")"
   ]
  },
  {
   "cell_type": "markdown",
   "id": "b5c9f84d-d805-44ef-ada6-7cedcf7c8e56",
   "metadata": {},
   "source": [
    "## nre-b"
   ]
  },
  {
   "cell_type": "code",
   "execution_count": 11,
   "id": "57c18f3c-84b1-4598-90c1-318c55ee4e18",
   "metadata": {},
   "outputs": [
    {
     "name": "stdout",
     "output_type": "stream",
     "text": [
      " Training neural network. Epochs trained: 61"
     ]
    }
   ],
   "source": [
    "get_classifier = classifier_nn(**classifier_kwargs)\n",
    "\n",
    "inference = SNRE_B(\n",
    "    prior, \n",
    "    classifier=get_classifier,\n",
    "    device=device,\n",
    ")\n",
    "_ = inference.append_simulations(theta, x).train(\n",
    "    num_atoms=num_atoms, \n",
    "    **train_kwargs\n",
    ")\n",
    "\n",
    "inference._neural_net.load_state_dict(inference._best_model_state_dict)\n",
    "density_estimator_nreb = deepcopy(inference._neural_net)\n",
    "\n",
    "posterior_nreb = inference.build_posterior(\n",
    "    density_estimator_nreb,\n",
    "    sample_with=sample_with,\n",
    ")"
   ]
  },
  {
   "cell_type": "code",
   "execution_count": 12,
   "id": "ea0eb885-b146-4449-a421-0dcd3cdaf9f6",
   "metadata": {},
   "outputs": [
    {
     "data": {
      "text/plain": [
       "[<matplotlib.lines.Line2D at 0x7fef51f23b50>]"
      ]
     },
     "execution_count": 12,
     "metadata": {},
     "output_type": "execute_result"
    },
    {
     "data": {
      "image/png": "[encoded data removed]",
      "text/plain": [
       "<Figure size 640x480 with 1 Axes>"
      ]
     },
     "metadata": {},
     "output_type": "display_data"
    }
   ],
   "source": [
    "plt.plot(inference.summary[\"validation_log_probs\"])"
   ]
  },
  {
   "cell_type": "code",
   "execution_count": 13,
   "id": "db4ee3de-bb23-4f25-8c37-610ec6bd4e74",
   "metadata": {},
   "outputs": [
    {
     "data": {
      "application/vnd.jupyter.widget-view+json": {
       "model_id": "a9eccbf3610e483eb2c4c6d6d321129b",
       "version_major": 2,
       "version_minor": 0
      },
      "text/plain": [
       "Drawing 100000 posterior samples:   0%|          | 0/100000 [00:00<?, ?it/s]"
      ]
     },
     "metadata": {},
     "output_type": "display_data"
    },
    {
     "data": {
      "image/png": "[encoded data removed]",
      "text/plain": [
       "<Figure size 600x600 with 1 Axes>"
      ]
     },
     "metadata": {},
     "output_type": "display_data"
    }
   ],
   "source": [
    "samples_durkan = posterior_nreb.sample((num_posterior_samples,), x=observation.cpu())\n",
    "name = \"durkan\"\n",
    "fig, _ = analysis.pairplot(\n",
    "    samples_durkan.cpu().numpy(), \n",
    "    figsize=(6,6), \n",
    "    points=true_theta.cpu().numpy(),\n",
    "    title=name,\n",
    "    limits=limits,\n",
    ")"
   ]
  },
  {
   "cell_type": "markdown",
   "id": "c40d74b8-6aa0-4a3e-aeb3-971b0dee740d",
   "metadata": {
    "tags": []
   },
   "source": [
    "## posteriors"
   ]
  },
  {
   "cell_type": "code",
   "execution_count": 14,
   "id": "91a2d1ff-6047-4a11-82c6-f0d3eeffe17c",
   "metadata": {},
   "outputs": [
    {
     "data": {
      "image/png": "[encoded data removed]",
      "text/plain": [
       "<Figure size 366x366 with 1 Axes>"
      ]
     },
     "metadata": {},
     "output_type": "display_data"
    }
   ],
   "source": [
    "ll = lambda theta: task.log_likelihood(theta, observation).exp()\n",
    "evidence, _ = scipy.integrate.quad(ll, low.item(), high.item())\n",
    "tt = prior.sample((num_posterior_samples,))\n",
    "\n",
    "kwargs = dict(\n",
    "    bins=100,\n",
    "    binrange=(low.item(), high.item()), \n",
    "    stat=\"density\",\n",
    "    kde=True,\n",
    "    element=\"poly\",\n",
    "    alpha=0.25,\n",
    ")\n",
    "\n",
    "fig, ax = plt.subplots(figsize=figsize)\n",
    "\n",
    "sns.histplot(\n",
    "    x=tt.squeeze().numpy(), \n",
    "    weights=(ll(tt) / evidence).squeeze().numpy(),\n",
    "    color=color_truth,\n",
    "    label=\"Truth\",\n",
    "    **kwargs,\n",
    ")\n",
    "sns.histplot(\n",
    "    x=samples_nrec.squeeze().numpy(),\n",
    "    color=color_gilles,\n",
    "    label=\"NRE-C\",\n",
    "    **kwargs,\n",
    ")\n",
    "sns.histplot(\n",
    "    x=samples_durkan.squeeze().numpy(),\n",
    "    color=color_durkan,\n",
    "    label=\"NRE-B\",\n",
    "    **kwargs,\n",
    ")\n",
    "ax.legend()\n",
    "\n",
    "ax.set_ylabel(\"Posterior density\")\n",
    "ax.set_xlabel(\"Parameter \" + r\"$\\mathbf{\\theta}$\")\n",
    "fig.tight_layout()\n",
    "\n",
    "plt.savefig(\"importance-diagnostic-posterior.pdf\", dpi=300, bbox_inches=\"tight\")"
   ]
  },
  {
   "cell_type": "markdown",
   "id": "af86b073-1419-43d2-a933-38b202c8dc23",
   "metadata": {},
   "source": [
    "## likelihood"
   ]
  },
  {
   "cell_type": "code",
   "execution_count": 15,
   "id": "2f2fd62b-717c-4404-bf9c-25c04a865e83",
   "metadata": {},
   "outputs": [],
   "source": [
    "def get_weigh_function(density_estimator: torch.nn.Module, theta_o: torch.Tensor) -> Callable:\n",
    "    def weigh(x):\n",
    "        with torch.no_grad():\n",
    "            return density_estimator([theta_o.expand(x.shape[0], -1).to(device), x.to(device)]).exp().to(device=device)\n",
    "    return weigh"
   ]
  },
  {
   "cell_type": "code",
   "execution_count": 16,
   "id": "a438bd9f-24c1-4491-809b-73f2c18f8f78",
   "metadata": {},
   "outputs": [],
   "source": [
    "# nrea = get_weigh_function(density_estimator_nrea, true_theta)\n",
    "nrec = get_weigh_function(density_estimator_nrec, true_theta)\n",
    "nreb = get_weigh_function(density_estimator_nreb, true_theta)"
   ]
  },
  {
   "cell_type": "code",
   "execution_count": 17,
   "id": "fc12ed48-6580-4686-8b27-ac397002ed67",
   "metadata": {},
   "outputs": [],
   "source": [
    "# # corner\n",
    "# fig = corner(\n",
    "#     x_likelihood.squeeze().numpy(),\n",
    "#     range=limits,\n",
    "# )\n",
    "# _ = corner(\n",
    "#     x_marginal.squeeze().numpy(),\n",
    "#     weights=nrea(x_marginal).squeeze().numpy(),\n",
    "#     color=\"red\",\n",
    "#     range=limits,\n",
    "#     fig=fig,\n",
    "# )\n",
    "# _ = corner(\n",
    "#     x_marginal.squeeze().numpy(),\n",
    "#     weights=nreb(x_marginal).squeeze().numpy(),\n",
    "#     color=\"blue\",\n",
    "#     range=limits,\n",
    "#     fig=fig,\n",
    "# )"
   ]
  },
  {
   "cell_type": "code",
   "execution_count": 18,
   "id": "d1afbffc-1d21-43c4-a3db-6e67cad7c6fe",
   "metadata": {},
   "outputs": [],
   "source": [
    "# x_likelihood = simulator(true_theta.expand((num_posterior_samples, -1))).to(device)\n",
    "# x_marginal = simulator(prior.sample((num_posterior_samples,))).to(device)\n",
    "\n",
    "# fig, ax = plt.subplots(figsize=(7,7))\n",
    "# kwargs = dict(\n",
    "#     bins=1_000, \n",
    "#     binrange=limits.squeeze().tolist(),\n",
    "#     # kde=True, \n",
    "#     ax=ax,\n",
    "#     stat=\"density\",\n",
    "#     alpha=0.25,\n",
    "#     element=\"poly\",\n",
    "# )\n",
    "# sns.histplot(x=x_likelihood.squeeze().numpy(), color=\"orange\", **kwargs)\n",
    "# # sns.histplot(\n",
    "# #     x=x_marginal.squeeze().numpy(),\n",
    "# #     weights=task.log_likelihood(true_theta.expand(num_posterior_samples, -1).squeeze(), x_marginal.squeeze()).exp(),\n",
    "# #     color=\"red\", \n",
    "# #     **kwargs\n",
    "# # )\n",
    "# sns.histplot(\n",
    "#     x=x_marginal.squeeze().numpy(), \n",
    "#     weights=nrea(x_marginal).squeeze().numpy(), \n",
    "#     color=\"blue\", \n",
    "#     **kwargs\n",
    "# )\n",
    "# sns.histplot(\n",
    "#     x=x_marginal.squeeze().numpy(),\n",
    "#     weights=nreb(x_marginal).squeeze().numpy(),\n",
    "#     color=\"green\",\n",
    "#     **kwargs\n",
    "# )\n",
    "# plt.xlim(*limits.squeeze().tolist())"
   ]
  },
  {
   "cell_type": "code",
   "execution_count": 19,
   "id": "f898fc06-2ec6-428a-9445-198dfa2c5696",
   "metadata": {},
   "outputs": [
    {
     "data": {
      "image/png": "[encoded data removed]",
      "text/plain": [
       "<Figure size 366x366 with 3 Axes>"
      ]
     },
     "metadata": {},
     "output_type": "display_data"
    }
   ],
   "source": [
    "to_check = torch.linspace(low.item() / 2, high.item() / 2, 3)\n",
    "fig, axes = plt.subplots(nrows=len(to_check), figsize=figsize, sharex=True, sharey=True)\n",
    "\n",
    "for i, (tt, ax) in enumerate(zip(to_check, axes.flatten())):\n",
    "    tt = tt.unsqueeze(-1)\n",
    "\n",
    "    x_likelihood = simulator(tt.expand((num_posterior_samples, -1))).to(device)\n",
    "    x_marginal = simulator(prior.sample((num_posterior_samples,))).to(device)\n",
    "    \n",
    "    kwargs = dict(\n",
    "        bins=1_000, \n",
    "        binrange=limits.squeeze().tolist(),\n",
    "        # kde=True, \n",
    "        ax=ax,\n",
    "        stat=\"density\",\n",
    "        alpha=0.25,\n",
    "        element=\"poly\",\n",
    "    )\n",
    "    sns.histplot(\n",
    "        x=x_likelihood.squeeze().numpy(), \n",
    "        color=color_truth, \n",
    "        label=\"Truth\",\n",
    "        **kwargs,\n",
    "    )\n",
    "    # sns.histplot(\n",
    "    #     x=x_marginal.squeeze().numpy(),\n",
    "    #     weights=task.log_likelihood(true_theta.expand(num_posterior_samples, -1).squeeze(), x_marginal.squeeze()).exp(),\n",
    "    #     color=\"red\", \n",
    "    #     **kwargs\n",
    "    # )\n",
    "    # sns.histplot(\n",
    "    #     x=x_marginal.squeeze().numpy(), \n",
    "    #     weights=get_weigh_function(density_estimator_nrea, tt)(x_marginal).squeeze().numpy(), \n",
    "    #     color=color_gilles, \n",
    "    #     **kwargs\n",
    "    # )\n",
    "    sns.histplot(\n",
    "        x=x_marginal.squeeze().numpy(), \n",
    "        weights=get_weigh_function(density_estimator_nrec, tt)(x_marginal).squeeze().numpy(), \n",
    "        label=\"NRE-C\",\n",
    "        color=color_gilles, \n",
    "        **kwargs,\n",
    "    )\n",
    "    sns.histplot(\n",
    "        x=x_marginal.squeeze().numpy(),\n",
    "        weights=get_weigh_function(density_estimator_nreb, tt)(x_marginal).squeeze().numpy(),\n",
    "        color=color_durkan,\n",
    "        label=\"NRE-B\",\n",
    "        **kwargs,\n",
    "    )\n",
    "    \n",
    "    if i == 0:\n",
    "        ax.legend()\n",
    "    \n",
    "    if i in [0, 2]:\n",
    "        ax.set_ylabel(\"\")\n",
    "    else:\n",
    "        ax.set_ylabel(\"Approximate likelihood density, various \" + r\"$\\mathbf{\\theta}$\")\n",
    "    \n",
    "    if i == 2:\n",
    "        ax.set_xlabel(\"Data $\\mathbf{x}$\")\n",
    "plt.xlim(*limits.squeeze().tolist())\n",
    "plt.tight_layout()\n",
    "\n",
    "plt.savefig(\"importance-diagnostic-likelihoods.pdf\", dpi=300, bbox_inches=\"tight\")"
   ]
  },
  {
   "cell_type": "markdown",
   "id": "6607d881-9236-489f-942b-04b9f9d8ebb2",
   "metadata": {},
   "source": [
    "## importance sampling diagnostic"
   ]
  },
  {
   "cell_type": "code",
   "execution_count": 20,
   "id": "905ffbcd-99fe-4182-9934-f35a48c317e6",
   "metadata": {},
   "outputs": [],
   "source": [
    "class WeightedLossClassifier(pl.LightningModule):\n",
    "    def __init__(self, weigh: Callable, ndim: int):\n",
    "        super().__init__()\n",
    "        self.weigh = weigh\n",
    "        self.classifier = torch.nn.Sequential(\n",
    "            torch.nn.Linear(ndim, 10*ndim),\n",
    "            torch.nn.ReLU(),\n",
    "            torch.nn.Linear(10*ndim, 10*ndim),\n",
    "            torch.nn.ReLU(),\n",
    "            torch.nn.Linear(10*ndim, 1),\n",
    "        )\n",
    "\n",
    "    def forward(self, x):\n",
    "        return self.classifier(x).sigmoid()\n",
    "\n",
    "    def _get_loss(self, batch, batch_idx):\n",
    "        x_ind, x_dep = batch\n",
    "        # ind goes to zero, dep goes to one\n",
    "        t = torch.cat(\n",
    "            [torch.zeros((x_ind.shape[0], 1), device=self.device), torch.ones((x_dep.shape[0], 1), device=self.device)],\n",
    "            dim=0,\n",
    "        )\n",
    "        y_ind = self.classifier(x_ind)\n",
    "        y_dep = self.classifier(x_dep)\n",
    "        y = torch.cat([y_ind, y_dep], dim=0)\n",
    "        w = torch.cat([self.weigh(x_ind), torch.ones((x_dep.shape[0], 1), device=self.device)], dim=0)\n",
    "        return F.binary_cross_entropy_with_logits(y, t, w)\n",
    "    \n",
    "    def training_step(self, batch, batch_idx):\n",
    "        loss = self._get_loss(batch, batch_idx)\n",
    "        self.log(\"train_loss\", loss)\n",
    "        return loss\n",
    "    \n",
    "    def validation_step(self, batch, batch_idx):\n",
    "        loss = self._get_loss(batch, batch_idx)\n",
    "        self.log(\"val_loss\", loss)\n",
    "\n",
    "    def configure_optimizers(self):\n",
    "        optimizer = torch.optim.Adam(self.parameters(), lr=1e-3)\n",
    "        return optimizer"
   ]
  },
  {
   "cell_type": "code",
   "execution_count": 21,
   "id": "5763b3e7-3aa1-48d0-bf79-21fce3e37005",
   "metadata": {},
   "outputs": [],
   "source": [
    "def importance_diagnostic(\n",
    "    X: torch.Tensor,\n",
    "    Y: torch.Tensor,\n",
    "    weigh: Callable,\n",
    "    seed: int = 1,\n",
    "    n_folds: int = 5,\n",
    "    scoring: str = \"accuracy\",\n",
    "    z_score: bool = True,\n",
    "    noise_scale: Optional[float] = None,\n",
    ") -> torch.Tensor:\n",
    "    \"\"\"X - independent, Y - dependent, classifier returns prob sample is dependent.\n",
    "    \n",
    "    Classifier-based 2-sample test returning accuracy\n",
    "\n",
    "    Trains classifiers with N-fold cross-validation [1]. Scikit learn MLPClassifier are\n",
    "    used, with 2 hidden layers of 10x dim each, where dim is the dimensionality of the\n",
    "    samples X and Y.\n",
    "\n",
    "    Args:\n",
    "        X: Sample 1\n",
    "        Y: Sample 2\n",
    "        seed: Seed for sklearn\n",
    "        n_folds: Number of folds\n",
    "        z_score: Z-scoring using X\n",
    "        noise_scale: If passed, will add Gaussian noise with std noise_scale to samples\n",
    "\n",
    "    References:\n",
    "        [1]: https://scikit-learn.org/stable/modules/cross_validation.html\n",
    "    \"\"\"\n",
    "    if z_score:\n",
    "        X_mean = torch.mean(X, dim=0)\n",
    "        X_std = torch.std(X, dim=0)\n",
    "        X = (X - X_mean) / X_std\n",
    "        Y = (Y - X_mean) / X_std\n",
    "\n",
    "    if noise_scale is not None:\n",
    "        X += noise_scale * torch.randn(X.shape)\n",
    "        Y += noise_scale * torch.randn(Y.shape)\n",
    "\n",
    "    X = X.cpu()\n",
    "    Y = Y.cpu()\n",
    "\n",
    "    ndim = X.shape[1]\n",
    "\n",
    "    # data = np.concatenate((X, Y))\n",
    "    # target = np.concatenate(\n",
    "    #     (\n",
    "    #         np.zeros((X.shape[0],)),\n",
    "    #         np.ones((Y.shape[0],)),\n",
    "    #     )\n",
    "    # )\n",
    "    \n",
    "    validation_percentage = 0.1\n",
    "    dataset = torch.utils.data.TensorDataset(X, Y)  # for this X is ind and Y is dep\n",
    "    train_dataset, test_dataset = torch.utils.data.random_split(\n",
    "        dataset, \n",
    "        [math.floor(len(dataset) * (1 - validation_percentage)), math.ceil(len(dataset) * validation_percentage)],\n",
    "    )\n",
    "    train_dataloader = torch.utils.data.DataLoader(train_dataset, batch_size=256, shuffle=True)\n",
    "    test_dataloader = torch.utils.data.DataLoader(test_dataset, batch_size=256)\n",
    "\n",
    "    clf = WeightedLossClassifier(weigh, ndim)\n",
    "    trainer = pl.Trainer(max_epochs=100)\n",
    "    trainer.fit(clf, train_dataloader, test_dataloader)\n",
    "    return clf\n",
    "    \n",
    "    # shuffle_k_fold = KFold(n_splits=n_folds, shuffle=True, random_state=seed)\n",
    "    # shuffle_k_fold.get_n_splits()\n",
    "    \n",
    "#     scores = cross_val_score(clf, data, target, cv=shuffle, scoring=scoring)\n",
    "\n",
    "#     scores = np.asarray(np.mean(scores)).astype(np.float32)\n",
    "#     return torch.from_numpy(np.atleast_1d(scores))"
   ]
  },
  {
   "cell_type": "code",
   "execution_count": 22,
   "id": "af3e8731-24f2-45a8-aaa6-545ff79a7e6b",
   "metadata": {},
   "outputs": [],
   "source": [
    "def draw_ind_and_dep_samples(n: int, theta_o: torch.Tensor):\n",
    "    x_ind = simulator(prior.sample((n,)))\n",
    "    x_dep = simulator(theta_o.expand(n, -1))\n",
    "    return (x_ind, torch.zeros((n,))), (x_dep, torch.ones((n,)))"
   ]
  },
  {
   "cell_type": "code",
   "execution_count": 23,
   "id": "399b6f25-29ee-40dd-9f37-b2482c2fbb35",
   "metadata": {},
   "outputs": [
    {
     "name": "stderr",
     "output_type": "stream",
     "text": [
      "GPU available: True, used: False\n",
      "TPU available: False, using: 0 TPU cores\n",
      "IPU available: False, using: 0 IPUs\n",
      "HPU available: False, using: 0 HPUs\n",
      "/home/ben/mambaforge/envs/fixcnre/lib/python3.8/site-packages/pytorch_lightning/trainer/trainer.py:1812: PossibleUserWarning: GPU available but not used. Set `accelerator` and `devices` using `Trainer(accelerator='gpu', devices=3)`.\n",
      "  rank_zero_warn(\n",
      "\n",
      "  | Name       | Type       | Params\n",
      "------------------------------------------\n",
      "0 | classifier | Sequential | 141   \n",
      "------------------------------------------\n",
      "141       Trainable params\n",
      "0         Non-trainable params\n",
      "141       Total params\n",
      "0.001     Total estimated model params size (MB)\n"
     ]
    },
    {
     "data": {
      "application/vnd.jupyter.widget-view+json": {
       "model_id": "",
       "version_major": 2,
       "version_minor": 0
      },
      "text/plain": [
       "Sanity Checking: 0it [00:00, ?it/s]"
      ]
     },
     "metadata": {},
     "output_type": "display_data"
    },
    {
     "name": "stderr",
     "output_type": "stream",
     "text": [
      "/home/ben/mambaforge/envs/fixcnre/lib/python3.8/site-packages/pytorch_lightning/trainer/connectors/data_connector.py:240: PossibleUserWarning: The dataloader, val_dataloader 0, does not have many workers which may be a bottleneck. Consider increasing the value of the `num_workers` argument` (try 24 which is the number of cpus on this machine) in the `DataLoader` init to improve performance.\n",
      "  rank_zero_warn(\n",
      "/home/ben/mambaforge/envs/fixcnre/lib/python3.8/site-packages/pytorch_lightning/trainer/connectors/data_connector.py:240: PossibleUserWarning: The dataloader, train_dataloader, does not have many workers which may be a bottleneck. Consider increasing the value of the `num_workers` argument` (try 24 which is the number of cpus on this machine) in the `DataLoader` init to improve performance.\n",
      "  rank_zero_warn(\n",
      "/home/ben/mambaforge/envs/fixcnre/lib/python3.8/site-packages/pytorch_lightning/trainer/trainer.py:1927: PossibleUserWarning: The number of training batches (36) is smaller than the logging interval Trainer(log_every_n_steps=50). Set a lower value for log_every_n_steps if you want to see logs for the training epoch.\n",
      "  rank_zero_warn(\n"
     ]
    },
    {
     "data": {
      "application/vnd.jupyter.widget-view+json": {
       "model_id": "ef8bda4780ad4d3cb8c3b1b57cf595a2",
       "version_major": 2,
       "version_minor": 0
      },
      "text/plain": [
       "Training: 0it [00:00, ?it/s]"
      ]
     },
     "metadata": {},
     "output_type": "display_data"
    },
    {
     "data": {
      "application/vnd.jupyter.widget-view+json": {
       "model_id": "",
       "version_major": 2,
       "version_minor": 0
      },
      "text/plain": [
       "Validation: 0it [00:00, ?it/s]"
      ]
     },
     "metadata": {},
     "output_type": "display_data"
    },
    {
     "data": {
      "application/vnd.jupyter.widget-view+json": {
       "model_id": "",
       "version_major": 2,
       "version_minor": 0
      },
      "text/plain": [
       "Validation: 0it [00:00, ?it/s]"
      ]
     },
     "metadata": {},
     "output_type": "display_data"
    },
    {
     "data": {
      "application/vnd.jupyter.widget-view+json": {
       "model_id": "",
       "version_major": 2,
       "version_minor": 0
      },
      "text/plain": [
       "Validation: 0it [00:00, ?it/s]"
      ]
     },
     "metadata": {},
     "output_type": "display_data"
    },
    {
     "data": {
      "application/vnd.jupyter.widget-view+json": {
       "model_id": "",
       "version_major": 2,
       "version_minor": 0
      },
      "text/plain": [
       "Validation: 0it [00:00, ?it/s]"
      ]
     },
     "metadata": {},
     "output_type": "display_data"
    },
    {
     "data": {
      "application/vnd.jupyter.widget-view+json": {
       "model_id": "",
       "version_major": 2,
       "version_minor": 0
      },
      "text/plain": [
       "Validation: 0it [00:00, ?it/s]"
      ]
     },
     "metadata": {},
     "output_type": "display_data"
    },
    {
     "data": {
      "application/vnd.jupyter.widget-view+json": {
       "model_id": "",
       "version_major": 2,
       "version_minor": 0
      },
      "text/plain": [
       "Validation: 0it [00:00, ?it/s]"
      ]
     },
     "metadata": {},
     "output_type": "display_data"
    },
    {
     "data": {
      "application/vnd.jupyter.widget-view+json": {
       "model_id": "",
       "version_major": 2,
       "version_minor": 0
      },
      "text/plain": [
       "Validation: 0it [00:00, ?it/s]"
      ]
     },
     "metadata": {},
     "output_type": "display_data"
    },
    {
     "data": {
      "application/vnd.jupyter.widget-view+json": {
       "model_id": "",
       "version_major": 2,
       "version_minor": 0
      },
      "text/plain": [
       "Validation: 0it [00:00, ?it/s]"
      ]
     },
     "metadata": {},
     "output_type": "display_data"
    },
    {
     "data": {
      "application/vnd.jupyter.widget-view+json": {
       "model_id": "",
       "version_major": 2,
       "version_minor": 0
      },
      "text/plain": [
       "Validation: 0it [00:00, ?it/s]"
      ]
     },
     "metadata": {},
     "output_type": "display_data"
    },
    {
     "data": {
      "application/vnd.jupyter.widget-view+json": {
       "model_id": "",
       "version_major": 2,
       "version_minor": 0
      },
      "text/plain": [
       "Validation: 0it [00:00, ?it/s]"
      ]
     },
     "metadata": {},
     "output_type": "display_data"
    },
    {
     "data": {
      "application/vnd.jupyter.widget-view+json": {
       "model_id": "",
       "version_major": 2,
       "version_minor": 0
      },
      "text/plain": [
       "Validation: 0it [00:00, ?it/s]"
      ]
     },
     "metadata": {},
     "output_type": "display_data"
    },
    {
     "data": {
      "application/vnd.jupyter.widget-view+json": {
       "model_id": "",
       "version_major": 2,
       "version_minor": 0
      },
      "text/plain": [
       "Validation: 0it [00:00, ?it/s]"
      ]
     },
     "metadata": {},
     "output_type": "display_data"
    },
    {
     "data": {
      "application/vnd.jupyter.widget-view+json": {
       "model_id": "",
       "version_major": 2,
       "version_minor": 0
      },
      "text/plain": [
       "Validation: 0it [00:00, ?it/s]"
      ]
     },
     "metadata": {},
     "output_type": "display_data"
    },
    {
     "data": {
      "application/vnd.jupyter.widget-view+json": {
       "model_id": "",
       "version_major": 2,
       "version_minor": 0
      },
      "text/plain": [
       "Validation: 0it [00:00, ?it/s]"
      ]
     },
     "metadata": {},
     "output_type": "display_data"
    },
    {
     "data": {
      "application/vnd.jupyter.widget-view+json": {
       "model_id": "",
       "version_major": 2,
       "version_minor": 0
      },
      "text/plain": [
       "Validation: 0it [00:00, ?it/s]"
      ]
     },
     "metadata": {},
     "output_type": "display_data"
    },
    {
     "data": {
      "application/vnd.jupyter.widget-view+json": {
       "model_id": "",
       "version_major": 2,
       "version_minor": 0
      },
      "text/plain": [
       "Validation: 0it [00:00, ?it/s]"
      ]
     },
     "metadata": {},
     "output_type": "display_data"
    },
    {
     "data": {
      "application/vnd.jupyter.widget-view+json": {
       "model_id": "",
       "version_major": 2,
       "version_minor": 0
      },
      "text/plain": [
       "Validation: 0it [00:00, ?it/s]"
      ]
     },
     "metadata": {},
     "output_type": "display_data"
    },
    {
     "data": {
      "application/vnd.jupyter.widget-view+json": {
       "model_id": "",
       "version_major": 2,
       "version_minor": 0
      },
      "text/plain": [
       "Validation: 0it [00:00, ?it/s]"
      ]
     },
     "metadata": {},
     "output_type": "display_data"
    },
    {
     "data": {
      "application/vnd.jupyter.widget-view+json": {
       "model_id": "",
       "version_major": 2,
       "version_minor": 0
      },
      "text/plain": [
       "Validation: 0it [00:00, ?it/s]"
      ]
     },
     "metadata": {},
     "output_type": "display_data"
    },
    {
     "data": {
      "application/vnd.jupyter.widget-view+json": {
       "model_id": "",
       "version_major": 2,
       "version_minor": 0
      },
      "text/plain": [
       "Validation: 0it [00:00, ?it/s]"
      ]
     },
     "metadata": {},
     "output_type": "display_data"
    },
    {
     "data": {
      "application/vnd.jupyter.widget-view+json": {
       "model_id": "",
       "version_major": 2,
       "version_minor": 0
      },
      "text/plain": [
       "Validation: 0it [00:00, ?it/s]"
      ]
     },
     "metadata": {},
     "output_type": "display_data"
    },
    {
     "data": {
      "application/vnd.jupyter.widget-view+json": {
       "model_id": "",
       "version_major": 2,
       "version_minor": 0
      },
      "text/plain": [
       "Validation: 0it [00:00, ?it/s]"
      ]
     },
     "metadata": {},
     "output_type": "display_data"
    },
    {
     "data": {
      "application/vnd.jupyter.widget-view+json": {
       "model_id": "",
       "version_major": 2,
       "version_minor": 0
      },
      "text/plain": [
       "Validation: 0it [00:00, ?it/s]"
      ]
     },
     "metadata": {},
     "output_type": "display_data"
    },
    {
     "data": {
      "application/vnd.jupyter.widget-view+json": {
       "model_id": "",
       "version_major": 2,
       "version_minor": 0
      },
      "text/plain": [
       "Validation: 0it [00:00, ?it/s]"
      ]
     },
     "metadata": {},
     "output_type": "display_data"
    },
    {
     "data": {
      "application/vnd.jupyter.widget-view+json": {
       "model_id": "",
       "version_major": 2,
       "version_minor": 0
      },
      "text/plain": [
       "Validation: 0it [00:00, ?it/s]"
      ]
     },
     "metadata": {},
     "output_type": "display_data"
    },
    {
     "data": {
      "application/vnd.jupyter.widget-view+json": {
       "model_id": "",
       "version_major": 2,
       "version_minor": 0
      },
      "text/plain": [
       "Validation: 0it [00:00, ?it/s]"
      ]
     },
     "metadata": {},
     "output_type": "display_data"
    },
    {
     "data": {
      "application/vnd.jupyter.widget-view+json": {
       "model_id": "",
       "version_major": 2,
       "version_minor": 0
      },
      "text/plain": [
       "Validation: 0it [00:00, ?it/s]"
      ]
     },
     "metadata": {},
     "output_type": "display_data"
    },
    {
     "data": {
      "application/vnd.jupyter.widget-view+json": {
       "model_id": "",
       "version_major": 2,
       "version_minor": 0
      },
      "text/plain": [
       "Validation: 0it [00:00, ?it/s]"
      ]
     },
     "metadata": {},
     "output_type": "display_data"
    },
    {
     "data": {
      "application/vnd.jupyter.widget-view+json": {
       "model_id": "",
       "version_major": 2,
       "version_minor": 0
      },
      "text/plain": [
       "Validation: 0it [00:00, ?it/s]"
      ]
     },
     "metadata": {},
     "output_type": "display_data"
    },
    {
     "data": {
      "application/vnd.jupyter.widget-view+json": {
       "model_id": "",
       "version_major": 2,
       "version_minor": 0
      },
      "text/plain": [
       "Validation: 0it [00:00, ?it/s]"
      ]
     },
     "metadata": {},
     "output_type": "display_data"
    },
    {
     "data": {
      "application/vnd.jupyter.widget-view+json": {
       "model_id": "",
       "version_major": 2,
       "version_minor": 0
      },
      "text/plain": [
       "Validation: 0it [00:00, ?it/s]"
      ]
     },
     "metadata": {},
     "output_type": "display_data"
    },
    {
     "data": {
      "application/vnd.jupyter.widget-view+json": {
       "model_id": "",
       "version_major": 2,
       "version_minor": 0
      },
      "text/plain": [
       "Validation: 0it [00:00, ?it/s]"
      ]
     },
     "metadata": {},
     "output_type": "display_data"
    },
    {
     "data": {
      "application/vnd.jupyter.widget-view+json": {
       "model_id": "",
       "version_major": 2,
       "version_minor": 0
      },
      "text/plain": [
       "Validation: 0it [00:00, ?it/s]"
      ]
     },
     "metadata": {},
     "output_type": "display_data"
    },
    {
     "data": {
      "application/vnd.jupyter.widget-view+json": {
       "model_id": "",
       "version_major": 2,
       "version_minor": 0
      },
      "text/plain": [
       "Validation: 0it [00:00, ?it/s]"
      ]
     },
     "metadata": {},
     "output_type": "display_data"
    },
    {
     "data": {
      "application/vnd.jupyter.widget-view+json": {
       "model_id": "",
       "version_major": 2,
       "version_minor": 0
      },
      "text/plain": [
       "Validation: 0it [00:00, ?it/s]"
      ]
     },
     "metadata": {},
     "output_type": "display_data"
    },
    {
     "data": {
      "application/vnd.jupyter.widget-view+json": {
       "model_id": "",
       "version_major": 2,
       "version_minor": 0
      },
      "text/plain": [
       "Validation: 0it [00:00, ?it/s]"
      ]
     },
     "metadata": {},
     "output_type": "display_data"
    },
    {
     "data": {
      "application/vnd.jupyter.widget-view+json": {
       "model_id": "",
       "version_major": 2,
       "version_minor": 0
      },
      "text/plain": [
       "Validation: 0it [00:00, ?it/s]"
      ]
     },
     "metadata": {},
     "output_type": "display_data"
    },
    {
     "data": {
      "application/vnd.jupyter.widget-view+json": {
       "model_id": "",
       "version_major": 2,
       "version_minor": 0
      },
      "text/plain": [
       "Validation: 0it [00:00, ?it/s]"
      ]
     },
     "metadata": {},
     "output_type": "display_data"
    },
    {
     "data": {
      "application/vnd.jupyter.widget-view+json": {
       "model_id": "",
       "version_major": 2,
       "version_minor": 0
      },
      "text/plain": [
       "Validation: 0it [00:00, ?it/s]"
      ]
     },
     "metadata": {},
     "output_type": "display_data"
    },
    {
     "data": {
      "application/vnd.jupyter.widget-view+json": {
       "model_id": "",
       "version_major": 2,
       "version_minor": 0
      },
      "text/plain": [
       "Validation: 0it [00:00, ?it/s]"
      ]
     },
     "metadata": {},
     "output_type": "display_data"
    },
    {
     "data": {
      "application/vnd.jupyter.widget-view+json": {
       "model_id": "",
       "version_major": 2,
       "version_minor": 0
      },
      "text/plain": [
       "Validation: 0it [00:00, ?it/s]"
      ]
     },
     "metadata": {},
     "output_type": "display_data"
    },
    {
     "data": {
      "application/vnd.jupyter.widget-view+json": {
       "model_id": "",
       "version_major": 2,
       "version_minor": 0
      },
      "text/plain": [
       "Validation: 0it [00:00, ?it/s]"
      ]
     },
     "metadata": {},
     "output_type": "display_data"
    },
    {
     "data": {
      "application/vnd.jupyter.widget-view+json": {
       "model_id": "",
       "version_major": 2,
       "version_minor": 0
      },
      "text/plain": [
       "Validation: 0it [00:00, ?it/s]"
      ]
     },
     "metadata": {},
     "output_type": "display_data"
    },
    {
     "data": {
      "application/vnd.jupyter.widget-view+json": {
       "model_id": "",
       "version_major": 2,
       "version_minor": 0
      },
      "text/plain": [
       "Validation: 0it [00:00, ?it/s]"
      ]
     },
     "metadata": {},
     "output_type": "display_data"
    },
    {
     "data": {
      "application/vnd.jupyter.widget-view+json": {
       "model_id": "",
       "version_major": 2,
       "version_minor": 0
      },
      "text/plain": [
       "Validation: 0it [00:00, ?it/s]"
      ]
     },
     "metadata": {},
     "output_type": "display_data"
    },
    {
     "data": {
      "application/vnd.jupyter.widget-view+json": {
       "model_id": "",
       "version_major": 2,
       "version_minor": 0
      },
      "text/plain": [
       "Validation: 0it [00:00, ?it/s]"
      ]
     },
     "metadata": {},
     "output_type": "display_data"
    },
    {
     "data": {
      "application/vnd.jupyter.widget-view+json": {
       "model_id": "368bd5c4a5954398a594afba42d8d6af",
       "version_major": 2,
       "version_minor": 0
      },
      "text/plain": [
       "Validation: 0it [00:00, ?it/s]"
      ]
     },
     "metadata": {},
     "output_type": "display_data"
    },
    {
     "data": {
      "application/vnd.jupyter.widget-view+json": {
       "model_id": "b963571e230741658e092d11b94ae210",
       "version_major": 2,
       "version_minor": 0
      },
      "text/plain": [
       "Validation: 0it [00:00, ?it/s]"
      ]
     },
     "metadata": {},
     "output_type": "display_data"
    },
    {
     "data": {
      "application/vnd.jupyter.widget-view+json": {
       "model_id": "9c3de621d95a460f8b1f152d9c0e1bd5",
       "version_major": 2,
       "version_minor": 0
      },
      "text/plain": [
       "Validation: 0it [00:00, ?it/s]"
      ]
     },
     "metadata": {},
     "output_type": "display_data"
    },
    {
     "data": {
      "application/vnd.jupyter.widget-view+json": {
       "model_id": "463842614c234410a8ae2545c1a9b9ba",
       "version_major": 2,
       "version_minor": 0
      },
      "text/plain": [
       "Validation: 0it [00:00, ?it/s]"
      ]
     },
     "metadata": {},
     "output_type": "display_data"
    },
    {
     "data": {
      "application/vnd.jupyter.widget-view+json": {
       "model_id": "b13838d34781447c851ba006f4fb1094",
       "version_major": 2,
       "version_minor": 0
      },
      "text/plain": [
       "Validation: 0it [00:00, ?it/s]"
      ]
     },
     "metadata": {},
     "output_type": "display_data"
    },
    {
     "data": {
      "application/vnd.jupyter.widget-view+json": {
       "model_id": "0586b4153e2841b6be9ef44de48146a6",
       "version_major": 2,
       "version_minor": 0
      },
      "text/plain": [
       "Validation: 0it [00:00, ?it/s]"
      ]
     },
     "metadata": {},
     "output_type": "display_data"
    },
    {
     "data": {
      "application/vnd.jupyter.widget-view+json": {
       "model_id": "a825f508f0064fd88b71933c1257c32e",
       "version_major": 2,
       "version_minor": 0
      },
      "text/plain": [
       "Validation: 0it [00:00, ?it/s]"
      ]
     },
     "metadata": {},
     "output_type": "display_data"
    },
    {
     "data": {
      "application/vnd.jupyter.widget-view+json": {
       "model_id": "cf8e2a81d7314dc3b779eba3e84d6abf",
       "version_major": 2,
       "version_minor": 0
      },
      "text/plain": [
       "Validation: 0it [00:00, ?it/s]"
      ]
     },
     "metadata": {},
     "output_type": "display_data"
    },
    {
     "data": {
      "application/vnd.jupyter.widget-view+json": {
       "model_id": "b4cb0667999c41ba964c22443760ef66",
       "version_major": 2,
       "version_minor": 0
      },
      "text/plain": [
       "Validation: 0it [00:00, ?it/s]"
      ]
     },
     "metadata": {},
     "output_type": "display_data"
    },
    {
     "data": {
      "application/vnd.jupyter.widget-view+json": {
       "model_id": "969d8b79d53545db820d13ee2836f7cd",
       "version_major": 2,
       "version_minor": 0
      },
      "text/plain": [
       "Validation: 0it [00:00, ?it/s]"
      ]
     },
     "metadata": {},
     "output_type": "display_data"
    },
    {
     "data": {
      "application/vnd.jupyter.widget-view+json": {
       "model_id": "72286510350c482694f9adac9256604a",
       "version_major": 2,
       "version_minor": 0
      },
      "text/plain": [
       "Validation: 0it [00:00, ?it/s]"
      ]
     },
     "metadata": {},
     "output_type": "display_data"
    },
    {
     "data": {
      "application/vnd.jupyter.widget-view+json": {
       "model_id": "a4e4d07f4971482abb59fda4f0905684",
       "version_major": 2,
       "version_minor": 0
      },
      "text/plain": [
       "Validation: 0it [00:00, ?it/s]"
      ]
     },
     "metadata": {},
     "output_type": "display_data"
    },
    {
     "data": {
      "application/vnd.jupyter.widget-view+json": {
       "model_id": "e85e5cb2a7d447048ad661b5d68589a4",
       "version_major": 2,
       "version_minor": 0
      },
      "text/plain": [
       "Validation: 0it [00:00, ?it/s]"
      ]
     },
     "metadata": {},
     "output_type": "display_data"
    },
    {
     "data": {
      "application/vnd.jupyter.widget-view+json": {
       "model_id": "c543b2b238344573b4c2a1922b777a2d",
       "version_major": 2,
       "version_minor": 0
      },
      "text/plain": [
       "Validation: 0it [00:00, ?it/s]"
      ]
     },
     "metadata": {},
     "output_type": "display_data"
    },
    {
     "data": {
      "application/vnd.jupyter.widget-view+json": {
       "model_id": "4fd0a16f76a44645b0870487e40440fa",
       "version_major": 2,
       "version_minor": 0
      },
      "text/plain": [
       "Validation: 0it [00:00, ?it/s]"
      ]
     },
     "metadata": {},
     "output_type": "display_data"
    },
    {
     "data": {
      "application/vnd.jupyter.widget-view+json": {
       "model_id": "edbdf93538cc49f2940f7aaf85be12d7",
       "version_major": 2,
       "version_minor": 0
      },
      "text/plain": [
       "Validation: 0it [00:00, ?it/s]"
      ]
     },
     "metadata": {},
     "output_type": "display_data"
    },
    {
     "data": {
      "application/vnd.jupyter.widget-view+json": {
       "model_id": "d4986e3a345c470093ec8e65914e1f90",
       "version_major": 2,
       "version_minor": 0
      },
      "text/plain": [
       "Validation: 0it [00:00, ?it/s]"
      ]
     },
     "metadata": {},
     "output_type": "display_data"
    },
    {
     "data": {
      "application/vnd.jupyter.widget-view+json": {
       "model_id": "8bb824a7620f4a38874c66c11bd0b0d7",
       "version_major": 2,
       "version_minor": 0
      },
      "text/plain": [
       "Validation: 0it [00:00, ?it/s]"
      ]
     },
     "metadata": {},
     "output_type": "display_data"
    },
    {
     "data": {
      "application/vnd.jupyter.widget-view+json": {
       "model_id": "51ef1230fae64859845f512f14819ed4",
       "version_major": 2,
       "version_minor": 0
      },
      "text/plain": [
       "Validation: 0it [00:00, ?it/s]"
      ]
     },
     "metadata": {},
     "output_type": "display_data"
    },
    {
     "data": {
      "application/vnd.jupyter.widget-view+json": {
       "model_id": "bb7a73d4b9c4400da96a7d43bf972cf9",
       "version_major": 2,
       "version_minor": 0
      },
      "text/plain": [
       "Validation: 0it [00:00, ?it/s]"
      ]
     },
     "metadata": {},
     "output_type": "display_data"
    },
    {
     "data": {
      "application/vnd.jupyter.widget-view+json": {
       "model_id": "4c0093fbbbcf4a6aa35105065ce29786",
       "version_major": 2,
       "version_minor": 0
      },
      "text/plain": [
       "Validation: 0it [00:00, ?it/s]"
      ]
     },
     "metadata": {},
     "output_type": "display_data"
    },
    {
     "data": {
      "application/vnd.jupyter.widget-view+json": {
       "model_id": "93f92ca3d9684662a5ff18b2d71d469d",
       "version_major": 2,
       "version_minor": 0
      },
      "text/plain": [
       "Validation: 0it [00:00, ?it/s]"
      ]
     },
     "metadata": {},
     "output_type": "display_data"
    },
    {
     "data": {
      "application/vnd.jupyter.widget-view+json": {
       "model_id": "ae4370da905b45b1b3aa19efe17c45b6",
       "version_major": 2,
       "version_minor": 0
      },
      "text/plain": [
       "Validation: 0it [00:00, ?it/s]"
      ]
     },
     "metadata": {},
     "output_type": "display_data"
    },
    {
     "data": {
      "application/vnd.jupyter.widget-view+json": {
       "model_id": "979112cceb1e4b7e9a1e33181207ca8b",
       "version_major": 2,
       "version_minor": 0
      },
      "text/plain": [
       "Validation: 0it [00:00, ?it/s]"
      ]
     },
     "metadata": {},
     "output_type": "display_data"
    },
    {
     "data": {
      "application/vnd.jupyter.widget-view+json": {
       "model_id": "d3e365d3534e45a88c51c3d1691ee041",
       "version_major": 2,
       "version_minor": 0
      },
      "text/plain": [
       "Validation: 0it [00:00, ?it/s]"
      ]
     },
     "metadata": {},
     "output_type": "display_data"
    },
    {
     "data": {
      "application/vnd.jupyter.widget-view+json": {
       "model_id": "d2d38445e54d4af6bb4757df7cc4e74e",
       "version_major": 2,
       "version_minor": 0
      },
      "text/plain": [
       "Validation: 0it [00:00, ?it/s]"
      ]
     },
     "metadata": {},
     "output_type": "display_data"
    },
    {
     "data": {
      "application/vnd.jupyter.widget-view+json": {
       "model_id": "4729990fa2b045438ba86d66c550b390",
       "version_major": 2,
       "version_minor": 0
      },
      "text/plain": [
       "Validation: 0it [00:00, ?it/s]"
      ]
     },
     "metadata": {},
     "output_type": "display_data"
    },
    {
     "data": {
      "application/vnd.jupyter.widget-view+json": {
       "model_id": "feb8e639befd4b0fad86f43cbbafbc09",
       "version_major": 2,
       "version_minor": 0
      },
      "text/plain": [
       "Validation: 0it [00:00, ?it/s]"
      ]
     },
     "metadata": {},
     "output_type": "display_data"
    },
    {
     "data": {
      "application/vnd.jupyter.widget-view+json": {
       "model_id": "1dadf7bf97054220bf1e5acbdc3a732d",
       "version_major": 2,
       "version_minor": 0
      },
      "text/plain": [
       "Validation: 0it [00:00, ?it/s]"
      ]
     },
     "metadata": {},
     "output_type": "display_data"
    },
    {
     "data": {
      "application/vnd.jupyter.widget-view+json": {
       "model_id": "c097eccc1dad4d7c8136e11b1933e5c2",
       "version_major": 2,
       "version_minor": 0
      },
      "text/plain": [
       "Validation: 0it [00:00, ?it/s]"
      ]
     },
     "metadata": {},
     "output_type": "display_data"
    },
    {
     "data": {
      "application/vnd.jupyter.widget-view+json": {
       "model_id": "637dbc507f3a4fdba763f3323c7934fe",
       "version_major": 2,
       "version_minor": 0
      },
      "text/plain": [
       "Validation: 0it [00:00, ?it/s]"
      ]
     },
     "metadata": {},
     "output_type": "display_data"
    },
    {
     "data": {
      "application/vnd.jupyter.widget-view+json": {
       "model_id": "b66b1860bdc340298282ae6dad8627de",
       "version_major": 2,
       "version_minor": 0
      },
      "text/plain": [
       "Validation: 0it [00:00, ?it/s]"
      ]
     },
     "metadata": {},
     "output_type": "display_data"
    },
    {
     "data": {
      "application/vnd.jupyter.widget-view+json": {
       "model_id": "1cfb2fbb5cbf4b63b835d5ce060b4c62",
       "version_major": 2,
       "version_minor": 0
      },
      "text/plain": [
       "Validation: 0it [00:00, ?it/s]"
      ]
     },
     "metadata": {},
     "output_type": "display_data"
    },
    {
     "data": {
      "application/vnd.jupyter.widget-view+json": {
       "model_id": "864650af1c2241a09349a50730cfe3d6",
       "version_major": 2,
       "version_minor": 0
      },
      "text/plain": [
       "Validation: 0it [00:00, ?it/s]"
      ]
     },
     "metadata": {},
     "output_type": "display_data"
    },
    {
     "data": {
      "application/vnd.jupyter.widget-view+json": {
       "model_id": "916a34e5de1c4385965f5fa9258f43e9",
       "version_major": 2,
       "version_minor": 0
      },
      "text/plain": [
       "Validation: 0it [00:00, ?it/s]"
      ]
     },
     "metadata": {},
     "output_type": "display_data"
    },
    {
     "data": {
      "application/vnd.jupyter.widget-view+json": {
       "model_id": "a2e5b3a9b91845158cb4996561e3c6f2",
       "version_major": 2,
       "version_minor": 0
      },
      "text/plain": [
       "Validation: 0it [00:00, ?it/s]"
      ]
     },
     "metadata": {},
     "output_type": "display_data"
    },
    {
     "data": {
      "application/vnd.jupyter.widget-view+json": {
       "model_id": "18d7998157384591bc6324d722a665f8",
       "version_major": 2,
       "version_minor": 0
      },
      "text/plain": [
       "Validation: 0it [00:00, ?it/s]"
      ]
     },
     "metadata": {},
     "output_type": "display_data"
    },
    {
     "data": {
      "application/vnd.jupyter.widget-view+json": {
       "model_id": "e8482c0d8a464211847a893a37ecc35a",
       "version_major": 2,
       "version_minor": 0
      },
      "text/plain": [
       "Validation: 0it [00:00, ?it/s]"
      ]
     },
     "metadata": {},
     "output_type": "display_data"
    },
    {
     "data": {
      "application/vnd.jupyter.widget-view+json": {
       "model_id": "f2d99013628b4b9f8aa55f17f313dfc0",
       "version_major": 2,
       "version_minor": 0
      },
      "text/plain": [
       "Validation: 0it [00:00, ?it/s]"
      ]
     },
     "metadata": {},
     "output_type": "display_data"
    },
    {
     "data": {
      "application/vnd.jupyter.widget-view+json": {
       "model_id": "dbd61c4f37b9495a8e151f5d67411104",
       "version_major": 2,
       "version_minor": 0
      },
      "text/plain": [
       "Validation: 0it [00:00, ?it/s]"
      ]
     },
     "metadata": {},
     "output_type": "display_data"
    },
    {
     "data": {
      "application/vnd.jupyter.widget-view+json": {
       "model_id": "1defda2036b8457392c804c6b5da4a27",
       "version_major": 2,
       "version_minor": 0
      },
      "text/plain": [
       "Validation: 0it [00:00, ?it/s]"
      ]
     },
     "metadata": {},
     "output_type": "display_data"
    },
    {
     "data": {
      "application/vnd.jupyter.widget-view+json": {
       "model_id": "9a82b6fb382f4d989821d1d9a0a63367",
       "version_major": 2,
       "version_minor": 0
      },
      "text/plain": [
       "Validation: 0it [00:00, ?it/s]"
      ]
     },
     "metadata": {},
     "output_type": "display_data"
    },
    {
     "data": {
      "application/vnd.jupyter.widget-view+json": {
       "model_id": "363f12f1d7bf4f1595da76bd0f642ddb",
       "version_major": 2,
       "version_minor": 0
      },
      "text/plain": [
       "Validation: 0it [00:00, ?it/s]"
      ]
     },
     "metadata": {},
     "output_type": "display_data"
    },
    {
     "data": {
      "application/vnd.jupyter.widget-view+json": {
       "model_id": "891b2a44351046799f39c6d2f1890945",
       "version_major": 2,
       "version_minor": 0
      },
      "text/plain": [
       "Validation: 0it [00:00, ?it/s]"
      ]
     },
     "metadata": {},
     "output_type": "display_data"
    },
    {
     "data": {
      "application/vnd.jupyter.widget-view+json": {
       "model_id": "6e5bd90751a34203983a89716dbead2c",
       "version_major": 2,
       "version_minor": 0
      },
      "text/plain": [
       "Validation: 0it [00:00, ?it/s]"
      ]
     },
     "metadata": {},
     "output_type": "display_data"
    },
    {
     "data": {
      "application/vnd.jupyter.widget-view+json": {
       "model_id": "540138c68f04403290877fb7c9bf68ec",
       "version_major": 2,
       "version_minor": 0
      },
      "text/plain": [
       "Validation: 0it [00:00, ?it/s]"
      ]
     },
     "metadata": {},
     "output_type": "display_data"
    },
    {
     "data": {
      "application/vnd.jupyter.widget-view+json": {
       "model_id": "70e9992ca1c44e3b88211f2b44989dc0",
       "version_major": 2,
       "version_minor": 0
      },
      "text/plain": [
       "Validation: 0it [00:00, ?it/s]"
      ]
     },
     "metadata": {},
     "output_type": "display_data"
    },
    {
     "data": {
      "application/vnd.jupyter.widget-view+json": {
       "model_id": "c2e0ae096e514834a0b57a1647da9063",
       "version_major": 2,
       "version_minor": 0
      },
      "text/plain": [
       "Validation: 0it [00:00, ?it/s]"
      ]
     },
     "metadata": {},
     "output_type": "display_data"
    },
    {
     "data": {
      "application/vnd.jupyter.widget-view+json": {
       "model_id": "767ffcdfbd0d43d39567b206d3e461b6",
       "version_major": 2,
       "version_minor": 0
      },
      "text/plain": [
       "Validation: 0it [00:00, ?it/s]"
      ]
     },
     "metadata": {},
     "output_type": "display_data"
    },
    {
     "data": {
      "application/vnd.jupyter.widget-view+json": {
       "model_id": "0fc242566e1049d093bd1f48a027eec4",
       "version_major": 2,
       "version_minor": 0
      },
      "text/plain": [
       "Validation: 0it [00:00, ?it/s]"
      ]
     },
     "metadata": {},
     "output_type": "display_data"
    },
    {
     "data": {
      "application/vnd.jupyter.widget-view+json": {
       "model_id": "b26d330643b54a99a1fd86fd9962121c",
       "version_major": 2,
       "version_minor": 0
      },
      "text/plain": [
       "Validation: 0it [00:00, ?it/s]"
      ]
     },
     "metadata": {},
     "output_type": "display_data"
    },
    {
     "data": {
      "application/vnd.jupyter.widget-view+json": {
       "model_id": "242050f62b8145298d287e7d08afc390",
       "version_major": 2,
       "version_minor": 0
      },
      "text/plain": [
       "Validation: 0it [00:00, ?it/s]"
      ]
     },
     "metadata": {},
     "output_type": "display_data"
    },
    {
     "data": {
      "application/vnd.jupyter.widget-view+json": {
       "model_id": "516242ff80ff4ba3bb673a3851080ef4",
       "version_major": 2,
       "version_minor": 0
      },
      "text/plain": [
       "Validation: 0it [00:00, ?it/s]"
      ]
     },
     "metadata": {},
     "output_type": "display_data"
    },
    {
     "data": {
      "application/vnd.jupyter.widget-view+json": {
       "model_id": "e057b256b82e493da877a83d02f37efd",
       "version_major": 2,
       "version_minor": 0
      },
      "text/plain": [
       "Validation: 0it [00:00, ?it/s]"
      ]
     },
     "metadata": {},
     "output_type": "display_data"
    }
   ],
   "source": [
    "(x_ind, _), (x_dep, _) = draw_ind_and_dep_samples(10_000, true_theta)\n",
    "# aaa = importance_diagnostic(x_ind, x_dep, nrea)\n",
    "ccc = importance_diagnostic(x_ind, x_dep, nrec)"
   ]
  },
  {
   "cell_type": "code",
   "execution_count": 24,
   "id": "6737bf43-7973-4372-b002-f672acfe207b",
   "metadata": {},
   "outputs": [
    {
     "name": "stderr",
     "output_type": "stream",
     "text": [
      "GPU available: True, used: False\n",
      "TPU available: False, using: 0 TPU cores\n",
      "IPU available: False, using: 0 IPUs\n",
      "HPU available: False, using: 0 HPUs\n",
      "\n",
      "  | Name       | Type       | Params\n",
      "------------------------------------------\n",
      "0 | classifier | Sequential | 141   \n",
      "------------------------------------------\n",
      "141       Trainable params\n",
      "0         Non-trainable params\n",
      "141       Total params\n",
      "0.001     Total estimated model params size (MB)\n"
     ]
    },
    {
     "data": {
      "application/vnd.jupyter.widget-view+json": {
       "model_id": "",
       "version_major": 2,
       "version_minor": 0
      },
      "text/plain": [
       "Sanity Checking: 0it [00:00, ?it/s]"
      ]
     },
     "metadata": {},
     "output_type": "display_data"
    },
    {
     "data": {
      "application/vnd.jupyter.widget-view+json": {
       "model_id": "2e69cd27811b4c499a3631c1a1cb420b",
       "version_major": 2,
       "version_minor": 0
      },
      "text/plain": [
       "Training: 0it [00:00, ?it/s]"
      ]
     },
     "metadata": {},
     "output_type": "display_data"
    },
    {
     "data": {
      "application/vnd.jupyter.widget-view+json": {
       "model_id": "",
       "version_major": 2,
       "version_minor": 0
      },
      "text/plain": [
       "Validation: 0it [00:00, ?it/s]"
      ]
     },
     "metadata": {},
     "output_type": "display_data"
    },
    {
     "data": {
      "application/vnd.jupyter.widget-view+json": {
       "model_id": "",
       "version_major": 2,
       "version_minor": 0
      },
      "text/plain": [
       "Validation: 0it [00:00, ?it/s]"
      ]
     },
     "metadata": {},
     "output_type": "display_data"
    },
    {
     "data": {
      "application/vnd.jupyter.widget-view+json": {
       "model_id": "",
       "version_major": 2,
       "version_minor": 0
      },
      "text/plain": [
       "Validation: 0it [00:00, ?it/s]"
      ]
     },
     "metadata": {},
     "output_type": "display_data"
    },
    {
     "data": {
      "application/vnd.jupyter.widget-view+json": {
       "model_id": "",
       "version_major": 2,
       "version_minor": 0
      },
      "text/plain": [
       "Validation: 0it [00:00, ?it/s]"
      ]
     },
     "metadata": {},
     "output_type": "display_data"
    },
    {
     "data": {
      "application/vnd.jupyter.widget-view+json": {
       "model_id": "",
       "version_major": 2,
       "version_minor": 0
      },
      "text/plain": [
       "Validation: 0it [00:00, ?it/s]"
      ]
     },
     "metadata": {},
     "output_type": "display_data"
    },
    {
     "data": {
      "application/vnd.jupyter.widget-view+json": {
       "model_id": "",
       "version_major": 2,
       "version_minor": 0
      },
      "text/plain": [
       "Validation: 0it [00:00, ?it/s]"
      ]
     },
     "metadata": {},
     "output_type": "display_data"
    },
    {
     "data": {
      "application/vnd.jupyter.widget-view+json": {
       "model_id": "",
       "version_major": 2,
       "version_minor": 0
      },
      "text/plain": [
       "Validation: 0it [00:00, ?it/s]"
      ]
     },
     "metadata": {},
     "output_type": "display_data"
    },
    {
     "data": {
      "application/vnd.jupyter.widget-view+json": {
       "model_id": "",
       "version_major": 2,
       "version_minor": 0
      },
      "text/plain": [
       "Validation: 0it [00:00, ?it/s]"
      ]
     },
     "metadata": {},
     "output_type": "display_data"
    },
    {
     "data": {
      "application/vnd.jupyter.widget-view+json": {
       "model_id": "",
       "version_major": 2,
       "version_minor": 0
      },
      "text/plain": [
       "Validation: 0it [00:00, ?it/s]"
      ]
     },
     "metadata": {},
     "output_type": "display_data"
    },
    {
     "data": {
      "application/vnd.jupyter.widget-view+json": {
       "model_id": "",
       "version_major": 2,
       "version_minor": 0
      },
      "text/plain": [
       "Validation: 0it [00:00, ?it/s]"
      ]
     },
     "metadata": {},
     "output_type": "display_data"
    },
    {
     "data": {
      "application/vnd.jupyter.widget-view+json": {
       "model_id": "",
       "version_major": 2,
       "version_minor": 0
      },
      "text/plain": [
       "Validation: 0it [00:00, ?it/s]"
      ]
     },
     "metadata": {},
     "output_type": "display_data"
    },
    {
     "data": {
      "application/vnd.jupyter.widget-view+json": {
       "model_id": "",
       "version_major": 2,
       "version_minor": 0
      },
      "text/plain": [
       "Validation: 0it [00:00, ?it/s]"
      ]
     },
     "metadata": {},
     "output_type": "display_data"
    },
    {
     "data": {
      "application/vnd.jupyter.widget-view+json": {
       "model_id": "",
       "version_major": 2,
       "version_minor": 0
      },
      "text/plain": [
       "Validation: 0it [00:00, ?it/s]"
      ]
     },
     "metadata": {},
     "output_type": "display_data"
    },
    {
     "data": {
      "application/vnd.jupyter.widget-view+json": {
       "model_id": "",
       "version_major": 2,
       "version_minor": 0
      },
      "text/plain": [
       "Validation: 0it [00:00, ?it/s]"
      ]
     },
     "metadata": {},
     "output_type": "display_data"
    },
    {
     "data": {
      "application/vnd.jupyter.widget-view+json": {
       "model_id": "",
       "version_major": 2,
       "version_minor": 0
      },
      "text/plain": [
       "Validation: 0it [00:00, ?it/s]"
      ]
     },
     "metadata": {},
     "output_type": "display_data"
    },
    {
     "data": {
      "application/vnd.jupyter.widget-view+json": {
       "model_id": "",
       "version_major": 2,
       "version_minor": 0
      },
      "text/plain": [
       "Validation: 0it [00:00, ?it/s]"
      ]
     },
     "metadata": {},
     "output_type": "display_data"
    },
    {
     "data": {
      "application/vnd.jupyter.widget-view+json": {
       "model_id": "",
       "version_major": 2,
       "version_minor": 0
      },
      "text/plain": [
       "Validation: 0it [00:00, ?it/s]"
      ]
     },
     "metadata": {},
     "output_type": "display_data"
    },
    {
     "data": {
      "application/vnd.jupyter.widget-view+json": {
       "model_id": "",
       "version_major": 2,
       "version_minor": 0
      },
      "text/plain": [
       "Validation: 0it [00:00, ?it/s]"
      ]
     },
     "metadata": {},
     "output_type": "display_data"
    },
    {
     "data": {
      "application/vnd.jupyter.widget-view+json": {
       "model_id": "",
       "version_major": 2,
       "version_minor": 0
      },
      "text/plain": [
       "Validation: 0it [00:00, ?it/s]"
      ]
     },
     "metadata": {},
     "output_type": "display_data"
    },
    {
     "data": {
      "application/vnd.jupyter.widget-view+json": {
       "model_id": "",
       "version_major": 2,
       "version_minor": 0
      },
      "text/plain": [
       "Validation: 0it [00:00, ?it/s]"
      ]
     },
     "metadata": {},
     "output_type": "display_data"
    },
    {
     "data": {
      "application/vnd.jupyter.widget-view+json": {
       "model_id": "",
       "version_major": 2,
       "version_minor": 0
      },
      "text/plain": [
       "Validation: 0it [00:00, ?it/s]"
      ]
     },
     "metadata": {},
     "output_type": "display_data"
    },
    {
     "data": {
      "application/vnd.jupyter.widget-view+json": {
       "model_id": "",
       "version_major": 2,
       "version_minor": 0
      },
      "text/plain": [
       "Validation: 0it [00:00, ?it/s]"
      ]
     },
     "metadata": {},
     "output_type": "display_data"
    },
    {
     "data": {
      "application/vnd.jupyter.widget-view+json": {
       "model_id": "",
       "version_major": 2,
       "version_minor": 0
      },
      "text/plain": [
       "Validation: 0it [00:00, ?it/s]"
      ]
     },
     "metadata": {},
     "output_type": "display_data"
    },
    {
     "data": {
      "application/vnd.jupyter.widget-view+json": {
       "model_id": "",
       "version_major": 2,
       "version_minor": 0
      },
      "text/plain": [
       "Validation: 0it [00:00, ?it/s]"
      ]
     },
     "metadata": {},
     "output_type": "display_data"
    },
    {
     "data": {
      "application/vnd.jupyter.widget-view+json": {
       "model_id": "",
       "version_major": 2,
       "version_minor": 0
      },
      "text/plain": [
       "Validation: 0it [00:00, ?it/s]"
      ]
     },
     "metadata": {},
     "output_type": "display_data"
    },
    {
     "data": {
      "application/vnd.jupyter.widget-view+json": {
       "model_id": "",
       "version_major": 2,
       "version_minor": 0
      },
      "text/plain": [
       "Validation: 0it [00:00, ?it/s]"
      ]
     },
     "metadata": {},
     "output_type": "display_data"
    },
    {
     "data": {
      "application/vnd.jupyter.widget-view+json": {
       "model_id": "",
       "version_major": 2,
       "version_minor": 0
      },
      "text/plain": [
       "Validation: 0it [00:00, ?it/s]"
      ]
     },
     "metadata": {},
     "output_type": "display_data"
    },
    {
     "data": {
      "application/vnd.jupyter.widget-view+json": {
       "model_id": "",
       "version_major": 2,
       "version_minor": 0
      },
      "text/plain": [
       "Validation: 0it [00:00, ?it/s]"
      ]
     },
     "metadata": {},
     "output_type": "display_data"
    },
    {
     "data": {
      "application/vnd.jupyter.widget-view+json": {
       "model_id": "",
       "version_major": 2,
       "version_minor": 0
      },
      "text/plain": [
       "Validation: 0it [00:00, ?it/s]"
      ]
     },
     "metadata": {},
     "output_type": "display_data"
    },
    {
     "data": {
      "application/vnd.jupyter.widget-view+json": {
       "model_id": "",
       "version_major": 2,
       "version_minor": 0
      },
      "text/plain": [
       "Validation: 0it [00:00, ?it/s]"
      ]
     },
     "metadata": {},
     "output_type": "display_data"
    },
    {
     "data": {
      "application/vnd.jupyter.widget-view+json": {
       "model_id": "",
       "version_major": 2,
       "version_minor": 0
      },
      "text/plain": [
       "Validation: 0it [00:00, ?it/s]"
      ]
     },
     "metadata": {},
     "output_type": "display_data"
    },
    {
     "data": {
      "application/vnd.jupyter.widget-view+json": {
       "model_id": "",
       "version_major": 2,
       "version_minor": 0
      },
      "text/plain": [
       "Validation: 0it [00:00, ?it/s]"
      ]
     },
     "metadata": {},
     "output_type": "display_data"
    },
    {
     "data": {
      "application/vnd.jupyter.widget-view+json": {
       "model_id": "",
       "version_major": 2,
       "version_minor": 0
      },
      "text/plain": [
       "Validation: 0it [00:00, ?it/s]"
      ]
     },
     "metadata": {},
     "output_type": "display_data"
    },
    {
     "data": {
      "application/vnd.jupyter.widget-view+json": {
       "model_id": "",
       "version_major": 2,
       "version_minor": 0
      },
      "text/plain": [
       "Validation: 0it [00:00, ?it/s]"
      ]
     },
     "metadata": {},
     "output_type": "display_data"
    },
    {
     "data": {
      "application/vnd.jupyter.widget-view+json": {
       "model_id": "",
       "version_major": 2,
       "version_minor": 0
      },
      "text/plain": [
       "Validation: 0it [00:00, ?it/s]"
      ]
     },
     "metadata": {},
     "output_type": "display_data"
    },
    {
     "data": {
      "application/vnd.jupyter.widget-view+json": {
       "model_id": "",
       "version_major": 2,
       "version_minor": 0
      },
      "text/plain": [
       "Validation: 0it [00:00, ?it/s]"
      ]
     },
     "metadata": {},
     "output_type": "display_data"
    },
    {
     "data": {
      "application/vnd.jupyter.widget-view+json": {
       "model_id": "",
       "version_major": 2,
       "version_minor": 0
      },
      "text/plain": [
       "Validation: 0it [00:00, ?it/s]"
      ]
     },
     "metadata": {},
     "output_type": "display_data"
    },
    {
     "data": {
      "application/vnd.jupyter.widget-view+json": {
       "model_id": "",
       "version_major": 2,
       "version_minor": 0
      },
      "text/plain": [
       "Validation: 0it [00:00, ?it/s]"
      ]
     },
     "metadata": {},
     "output_type": "display_data"
    },
    {
     "data": {
      "application/vnd.jupyter.widget-view+json": {
       "model_id": "",
       "version_major": 2,
       "version_minor": 0
      },
      "text/plain": [
       "Validation: 0it [00:00, ?it/s]"
      ]
     },
     "metadata": {},
     "output_type": "display_data"
    },
    {
     "data": {
      "application/vnd.jupyter.widget-view+json": {
       "model_id": "",
       "version_major": 2,
       "version_minor": 0
      },
      "text/plain": [
       "Validation: 0it [00:00, ?it/s]"
      ]
     },
     "metadata": {},
     "output_type": "display_data"
    },
    {
     "data": {
      "application/vnd.jupyter.widget-view+json": {
       "model_id": "",
       "version_major": 2,
       "version_minor": 0
      },
      "text/plain": [
       "Validation: 0it [00:00, ?it/s]"
      ]
     },
     "metadata": {},
     "output_type": "display_data"
    },
    {
     "data": {
      "application/vnd.jupyter.widget-view+json": {
       "model_id": "",
       "version_major": 2,
       "version_minor": 0
      },
      "text/plain": [
       "Validation: 0it [00:00, ?it/s]"
      ]
     },
     "metadata": {},
     "output_type": "display_data"
    },
    {
     "data": {
      "application/vnd.jupyter.widget-view+json": {
       "model_id": "",
       "version_major": 2,
       "version_minor": 0
      },
      "text/plain": [
       "Validation: 0it [00:00, ?it/s]"
      ]
     },
     "metadata": {},
     "output_type": "display_data"
    },
    {
     "data": {
      "application/vnd.jupyter.widget-view+json": {
       "model_id": "",
       "version_major": 2,
       "version_minor": 0
      },
      "text/plain": [
       "Validation: 0it [00:00, ?it/s]"
      ]
     },
     "metadata": {},
     "output_type": "display_data"
    },
    {
     "data": {
      "application/vnd.jupyter.widget-view+json": {
       "model_id": "",
       "version_major": 2,
       "version_minor": 0
      },
      "text/plain": [
       "Validation: 0it [00:00, ?it/s]"
      ]
     },
     "metadata": {},
     "output_type": "display_data"
    },
    {
     "data": {
      "application/vnd.jupyter.widget-view+json": {
       "model_id": "",
       "version_major": 2,
       "version_minor": 0
      },
      "text/plain": [
       "Validation: 0it [00:00, ?it/s]"
      ]
     },
     "metadata": {},
     "output_type": "display_data"
    },
    {
     "data": {
      "application/vnd.jupyter.widget-view+json": {
       "model_id": "",
       "version_major": 2,
       "version_minor": 0
      },
      "text/plain": [
       "Validation: 0it [00:00, ?it/s]"
      ]
     },
     "metadata": {},
     "output_type": "display_data"
    },
    {
     "data": {
      "application/vnd.jupyter.widget-view+json": {
       "model_id": "369de72b727d441a8a3a1ff32f5979f4",
       "version_major": 2,
       "version_minor": 0
      },
      "text/plain": [
       "Validation: 0it [00:00, ?it/s]"
      ]
     },
     "metadata": {},
     "output_type": "display_data"
    },
    {
     "data": {
      "application/vnd.jupyter.widget-view+json": {
       "model_id": "aba68adc16c4403b8b7f7cf796400de9",
       "version_major": 2,
       "version_minor": 0
      },
      "text/plain": [
       "Validation: 0it [00:00, ?it/s]"
      ]
     },
     "metadata": {},
     "output_type": "display_data"
    },
    {
     "data": {
      "application/vnd.jupyter.widget-view+json": {
       "model_id": "b6db837b3f6a4adea04332899dc3c93e",
       "version_major": 2,
       "version_minor": 0
      },
      "text/plain": [
       "Validation: 0it [00:00, ?it/s]"
      ]
     },
     "metadata": {},
     "output_type": "display_data"
    },
    {
     "data": {
      "application/vnd.jupyter.widget-view+json": {
       "model_id": "ef32fd33af7a4594854c1083860ff160",
       "version_major": 2,
       "version_minor": 0
      },
      "text/plain": [
       "Validation: 0it [00:00, ?it/s]"
      ]
     },
     "metadata": {},
     "output_type": "display_data"
    },
    {
     "data": {
      "application/vnd.jupyter.widget-view+json": {
       "model_id": "3a2f3c7c682144e390dba4842b35512e",
       "version_major": 2,
       "version_minor": 0
      },
      "text/plain": [
       "Validation: 0it [00:00, ?it/s]"
      ]
     },
     "metadata": {},
     "output_type": "display_data"
    },
    {
     "data": {
      "application/vnd.jupyter.widget-view+json": {
       "model_id": "59c83fcb30474644b390f74960e0d42e",
       "version_major": 2,
       "version_minor": 0
      },
      "text/plain": [
       "Validation: 0it [00:00, ?it/s]"
      ]
     },
     "metadata": {},
     "output_type": "display_data"
    },
    {
     "data": {
      "application/vnd.jupyter.widget-view+json": {
       "model_id": "436245d1543a435da26162821133a6fe",
       "version_major": 2,
       "version_minor": 0
      },
      "text/plain": [
       "Validation: 0it [00:00, ?it/s]"
      ]
     },
     "metadata": {},
     "output_type": "display_data"
    },
    {
     "data": {
      "application/vnd.jupyter.widget-view+json": {
       "model_id": "5e2a24dc782a433b8f8c16d36678cd67",
       "version_major": 2,
       "version_minor": 0
      },
      "text/plain": [
       "Validation: 0it [00:00, ?it/s]"
      ]
     },
     "metadata": {},
     "output_type": "display_data"
    },
    {
     "data": {
      "application/vnd.jupyter.widget-view+json": {
       "model_id": "7db4be572a3c4aaeb273abb8a29bbbca",
       "version_major": 2,
       "version_minor": 0
      },
      "text/plain": [
       "Validation: 0it [00:00, ?it/s]"
      ]
     },
     "metadata": {},
     "output_type": "display_data"
    },
    {
     "data": {
      "application/vnd.jupyter.widget-view+json": {
       "model_id": "33c78f200c2b45a9ac057f337d67c03e",
       "version_major": 2,
       "version_minor": 0
      },
      "text/plain": [
       "Validation: 0it [00:00, ?it/s]"
      ]
     },
     "metadata": {},
     "output_type": "display_data"
    },
    {
     "data": {
      "application/vnd.jupyter.widget-view+json": {
       "model_id": "d67abf7cea3240fdbceadf2b0d502a97",
       "version_major": 2,
       "version_minor": 0
      },
      "text/plain": [
       "Validation: 0it [00:00, ?it/s]"
      ]
     },
     "metadata": {},
     "output_type": "display_data"
    },
    {
     "data": {
      "application/vnd.jupyter.widget-view+json": {
       "model_id": "5f1303fb359c44ec919180af0e1f211b",
       "version_major": 2,
       "version_minor": 0
      },
      "text/plain": [
       "Validation: 0it [00:00, ?it/s]"
      ]
     },
     "metadata": {},
     "output_type": "display_data"
    },
    {
     "data": {
      "application/vnd.jupyter.widget-view+json": {
       "model_id": "301c34bda5cb4ee29ebc5d01f470fd95",
       "version_major": 2,
       "version_minor": 0
      },
      "text/plain": [
       "Validation: 0it [00:00, ?it/s]"
      ]
     },
     "metadata": {},
     "output_type": "display_data"
    },
    {
     "data": {
      "application/vnd.jupyter.widget-view+json": {
       "model_id": "6c8ffe39321b46f1916e70619913fbb2",
       "version_major": 2,
       "version_minor": 0
      },
      "text/plain": [
       "Validation: 0it [00:00, ?it/s]"
      ]
     },
     "metadata": {},
     "output_type": "display_data"
    },
    {
     "data": {
      "application/vnd.jupyter.widget-view+json": {
       "model_id": "50d2e6edd7fa4b009b410766860cca21",
       "version_major": 2,
       "version_minor": 0
      },
      "text/plain": [
       "Validation: 0it [00:00, ?it/s]"
      ]
     },
     "metadata": {},
     "output_type": "display_data"
    },
    {
     "data": {
      "application/vnd.jupyter.widget-view+json": {
       "model_id": "ef849ea634f44840aa40d42ffedd292a",
       "version_major": 2,
       "version_minor": 0
      },
      "text/plain": [
       "Validation: 0it [00:00, ?it/s]"
      ]
     },
     "metadata": {},
     "output_type": "display_data"
    },
    {
     "data": {
      "application/vnd.jupyter.widget-view+json": {
       "model_id": "235e0c7e618a452eb6be3acf700c7e5d",
       "version_major": 2,
       "version_minor": 0
      },
      "text/plain": [
       "Validation: 0it [00:00, ?it/s]"
      ]
     },
     "metadata": {},
     "output_type": "display_data"
    },
    {
     "data": {
      "application/vnd.jupyter.widget-view+json": {
       "model_id": "397e568065fb44e3a407a1d65b903477",
       "version_major": 2,
       "version_minor": 0
      },
      "text/plain": [
       "Validation: 0it [00:00, ?it/s]"
      ]
     },
     "metadata": {},
     "output_type": "display_data"
    },
    {
     "data": {
      "application/vnd.jupyter.widget-view+json": {
       "model_id": "2b2a7669baed4fb0b59994ae7da52ab3",
       "version_major": 2,
       "version_minor": 0
      },
      "text/plain": [
       "Validation: 0it [00:00, ?it/s]"
      ]
     },
     "metadata": {},
     "output_type": "display_data"
    },
    {
     "data": {
      "application/vnd.jupyter.widget-view+json": {
       "model_id": "db3083cf3fec4acc9657307414ab5c60",
       "version_major": 2,
       "version_minor": 0
      },
      "text/plain": [
       "Validation: 0it [00:00, ?it/s]"
      ]
     },
     "metadata": {},
     "output_type": "display_data"
    },
    {
     "data": {
      "application/vnd.jupyter.widget-view+json": {
       "model_id": "fff32f17a47744aeaa206abd889662ef",
       "version_major": 2,
       "version_minor": 0
      },
      "text/plain": [
       "Validation: 0it [00:00, ?it/s]"
      ]
     },
     "metadata": {},
     "output_type": "display_data"
    },
    {
     "data": {
      "application/vnd.jupyter.widget-view+json": {
       "model_id": "2f1da68e07ca4ae9b85b6f795f7167f1",
       "version_major": 2,
       "version_minor": 0
      },
      "text/plain": [
       "Validation: 0it [00:00, ?it/s]"
      ]
     },
     "metadata": {},
     "output_type": "display_data"
    },
    {
     "data": {
      "application/vnd.jupyter.widget-view+json": {
       "model_id": "524e5be3b01548279375d158be8b4ec5",
       "version_major": 2,
       "version_minor": 0
      },
      "text/plain": [
       "Validation: 0it [00:00, ?it/s]"
      ]
     },
     "metadata": {},
     "output_type": "display_data"
    },
    {
     "data": {
      "application/vnd.jupyter.widget-view+json": {
       "model_id": "8becd9ad629e48bf8d86f42db7d46ae1",
       "version_major": 2,
       "version_minor": 0
      },
      "text/plain": [
       "Validation: 0it [00:00, ?it/s]"
      ]
     },
     "metadata": {},
     "output_type": "display_data"
    },
    {
     "data": {
      "application/vnd.jupyter.widget-view+json": {
       "model_id": "d90e2d8677914e35a5cc1015774dce9a",
       "version_major": 2,
       "version_minor": 0
      },
      "text/plain": [
       "Validation: 0it [00:00, ?it/s]"
      ]
     },
     "metadata": {},
     "output_type": "display_data"
    },
    {
     "data": {
      "application/vnd.jupyter.widget-view+json": {
       "model_id": "7b0be7cb50c441bea96007cb0ff994ed",
       "version_major": 2,
       "version_minor": 0
      },
      "text/plain": [
       "Validation: 0it [00:00, ?it/s]"
      ]
     },
     "metadata": {},
     "output_type": "display_data"
    },
    {
     "data": {
      "application/vnd.jupyter.widget-view+json": {
       "model_id": "6ecd2955fba743edbf4cfa406758f618",
       "version_major": 2,
       "version_minor": 0
      },
      "text/plain": [
       "Validation: 0it [00:00, ?it/s]"
      ]
     },
     "metadata": {},
     "output_type": "display_data"
    },
    {
     "data": {
      "application/vnd.jupyter.widget-view+json": {
       "model_id": "c88a38c3682d48cda039497b89b50435",
       "version_major": 2,
       "version_minor": 0
      },
      "text/plain": [
       "Validation: 0it [00:00, ?it/s]"
      ]
     },
     "metadata": {},
     "output_type": "display_data"
    },
    {
     "data": {
      "application/vnd.jupyter.widget-view+json": {
       "model_id": "208b53504d98469fa5c0d10813583be9",
       "version_major": 2,
       "version_minor": 0
      },
      "text/plain": [
       "Validation: 0it [00:00, ?it/s]"
      ]
     },
     "metadata": {},
     "output_type": "display_data"
    },
    {
     "data": {
      "application/vnd.jupyter.widget-view+json": {
       "model_id": "19394f0b7c614841b0bad51dd17a8383",
       "version_major": 2,
       "version_minor": 0
      },
      "text/plain": [
       "Validation: 0it [00:00, ?it/s]"
      ]
     },
     "metadata": {},
     "output_type": "display_data"
    },
    {
     "data": {
      "application/vnd.jupyter.widget-view+json": {
       "model_id": "0f5454f9447f40f3beb778ab4523a91a",
       "version_major": 2,
       "version_minor": 0
      },
      "text/plain": [
       "Validation: 0it [00:00, ?it/s]"
      ]
     },
     "metadata": {},
     "output_type": "display_data"
    },
    {
     "data": {
      "application/vnd.jupyter.widget-view+json": {
       "model_id": "5a9c3756b0d24002bf2b03bc3bb9709a",
       "version_major": 2,
       "version_minor": 0
      },
      "text/plain": [
       "Validation: 0it [00:00, ?it/s]"
      ]
     },
     "metadata": {},
     "output_type": "display_data"
    },
    {
     "data": {
      "application/vnd.jupyter.widget-view+json": {
       "model_id": "8a2329357e014fb29aff2a0d3e8b56f3",
       "version_major": 2,
       "version_minor": 0
      },
      "text/plain": [
       "Validation: 0it [00:00, ?it/s]"
      ]
     },
     "metadata": {},
     "output_type": "display_data"
    },
    {
     "data": {
      "application/vnd.jupyter.widget-view+json": {
       "model_id": "8252d163b0ea4b0c987e39e14a94d3d1",
       "version_major": 2,
       "version_minor": 0
      },
      "text/plain": [
       "Validation: 0it [00:00, ?it/s]"
      ]
     },
     "metadata": {},
     "output_type": "display_data"
    },
    {
     "data": {
      "application/vnd.jupyter.widget-view+json": {
       "model_id": "957d3561362b450aa9c8812dba0101b7",
       "version_major": 2,
       "version_minor": 0
      },
      "text/plain": [
       "Validation: 0it [00:00, ?it/s]"
      ]
     },
     "metadata": {},
     "output_type": "display_data"
    },
    {
     "data": {
      "application/vnd.jupyter.widget-view+json": {
       "model_id": "d32a01bdab6e48238bfe3ca7d338b0fd",
       "version_major": 2,
       "version_minor": 0
      },
      "text/plain": [
       "Validation: 0it [00:00, ?it/s]"
      ]
     },
     "metadata": {},
     "output_type": "display_data"
    },
    {
     "data": {
      "application/vnd.jupyter.widget-view+json": {
       "model_id": "a11f693cc58d40719e550bef4f5093ef",
       "version_major": 2,
       "version_minor": 0
      },
      "text/plain": [
       "Validation: 0it [00:00, ?it/s]"
      ]
     },
     "metadata": {},
     "output_type": "display_data"
    },
    {
     "data": {
      "application/vnd.jupyter.widget-view+json": {
       "model_id": "a68b0e1217524cb9838713ceda0f375a",
       "version_major": 2,
       "version_minor": 0
      },
      "text/plain": [
       "Validation: 0it [00:00, ?it/s]"
      ]
     },
     "metadata": {},
     "output_type": "display_data"
    },
    {
     "data": {
      "application/vnd.jupyter.widget-view+json": {
       "model_id": "ac28f3194ccc43d6bef8280deaf755cf",
       "version_major": 2,
       "version_minor": 0
      },
      "text/plain": [
       "Validation: 0it [00:00, ?it/s]"
      ]
     },
     "metadata": {},
     "output_type": "display_data"
    },
    {
     "data": {
      "application/vnd.jupyter.widget-view+json": {
       "model_id": "da333febc7ac43979e851f568a6b2332",
       "version_major": 2,
       "version_minor": 0
      },
      "text/plain": [
       "Validation: 0it [00:00, ?it/s]"
      ]
     },
     "metadata": {},
     "output_type": "display_data"
    },
    {
     "data": {
      "application/vnd.jupyter.widget-view+json": {
       "model_id": "d2d19edf10bc46e0ba738cbfd08cfd47",
       "version_major": 2,
       "version_minor": 0
      },
      "text/plain": [
       "Validation: 0it [00:00, ?it/s]"
      ]
     },
     "metadata": {},
     "output_type": "display_data"
    },
    {
     "data": {
      "application/vnd.jupyter.widget-view+json": {
       "model_id": "4aa94bcd3888495aaee71e7258117d16",
       "version_major": 2,
       "version_minor": 0
      },
      "text/plain": [
       "Validation: 0it [00:00, ?it/s]"
      ]
     },
     "metadata": {},
     "output_type": "display_data"
    },
    {
     "data": {
      "application/vnd.jupyter.widget-view+json": {
       "model_id": "5263039a9dd14c3e8f9620d03087f0f6",
       "version_major": 2,
       "version_minor": 0
      },
      "text/plain": [
       "Validation: 0it [00:00, ?it/s]"
      ]
     },
     "metadata": {},
     "output_type": "display_data"
    },
    {
     "data": {
      "application/vnd.jupyter.widget-view+json": {
       "model_id": "c2fe89516ec04628991acffe477c3b6a",
       "version_major": 2,
       "version_minor": 0
      },
      "text/plain": [
       "Validation: 0it [00:00, ?it/s]"
      ]
     },
     "metadata": {},
     "output_type": "display_data"
    },
    {
     "data": {
      "application/vnd.jupyter.widget-view+json": {
       "model_id": "373fcf64ca0b448ebbf4b89929f86e92",
       "version_major": 2,
       "version_minor": 0
      },
      "text/plain": [
       "Validation: 0it [00:00, ?it/s]"
      ]
     },
     "metadata": {},
     "output_type": "display_data"
    },
    {
     "data": {
      "application/vnd.jupyter.widget-view+json": {
       "model_id": "90a1419929224087acf55dcdce395d1a",
       "version_major": 2,
       "version_minor": 0
      },
      "text/plain": [
       "Validation: 0it [00:00, ?it/s]"
      ]
     },
     "metadata": {},
     "output_type": "display_data"
    },
    {
     "data": {
      "application/vnd.jupyter.widget-view+json": {
       "model_id": "5fc35686f595442bb171bd3e54bbdfdc",
       "version_major": 2,
       "version_minor": 0
      },
      "text/plain": [
       "Validation: 0it [00:00, ?it/s]"
      ]
     },
     "metadata": {},
     "output_type": "display_data"
    },
    {
     "data": {
      "application/vnd.jupyter.widget-view+json": {
       "model_id": "2acd8c9dda664e5bad30684f94de9b14",
       "version_major": 2,
       "version_minor": 0
      },
      "text/plain": [
       "Validation: 0it [00:00, ?it/s]"
      ]
     },
     "metadata": {},
     "output_type": "display_data"
    },
    {
     "data": {
      "application/vnd.jupyter.widget-view+json": {
       "model_id": "0ce5d85ae2714678850a0d4f70a21f0c",
       "version_major": 2,
       "version_minor": 0
      },
      "text/plain": [
       "Validation: 0it [00:00, ?it/s]"
      ]
     },
     "metadata": {},
     "output_type": "display_data"
    },
    {
     "data": {
      "application/vnd.jupyter.widget-view+json": {
       "model_id": "0d920b3b97c146de8dd7c988e6d2c028",
       "version_major": 2,
       "version_minor": 0
      },
      "text/plain": [
       "Validation: 0it [00:00, ?it/s]"
      ]
     },
     "metadata": {},
     "output_type": "display_data"
    },
    {
     "data": {
      "application/vnd.jupyter.widget-view+json": {
       "model_id": "d4bd60bceb9840aaa716bbccb686979b",
       "version_major": 2,
       "version_minor": 0
      },
      "text/plain": [
       "Validation: 0it [00:00, ?it/s]"
      ]
     },
     "metadata": {},
     "output_type": "display_data"
    },
    {
     "data": {
      "application/vnd.jupyter.widget-view+json": {
       "model_id": "135e1245faaa4987adda47798431d04a",
       "version_major": 2,
       "version_minor": 0
      },
      "text/plain": [
       "Validation: 0it [00:00, ?it/s]"
      ]
     },
     "metadata": {},
     "output_type": "display_data"
    },
    {
     "data": {
      "application/vnd.jupyter.widget-view+json": {
       "model_id": "98cfafae6786443eb943e7deaab5cff4",
       "version_major": 2,
       "version_minor": 0
      },
      "text/plain": [
       "Validation: 0it [00:00, ?it/s]"
      ]
     },
     "metadata": {},
     "output_type": "display_data"
    }
   ],
   "source": [
    "bbb = importance_diagnostic(x_ind, x_dep, nreb)"
   ]
  },
  {
   "cell_type": "markdown",
   "id": "db97c903-ef12-4032-becb-366e6fb368b5",
   "metadata": {},
   "source": [
    "#### weighted ROC\n",
    "https://mran.microsoft.com/snapshot/2017-06-26/web/packages/WeightedROC/vignettes/Definition.pdf  "
   ]
  },
  {
   "cell_type": "code",
   "execution_count": 25,
   "id": "dd82b940-4ad0-4e5d-a04c-836bbc3921fe",
   "metadata": {},
   "outputs": [],
   "source": [
    "(x_ind, y_ind), (x_dep, y_dep) = draw_ind_and_dep_samples(num_posterior_samples, true_theta)\n",
    "x = torch.cat([x_ind, x_dep])\n",
    "y = torch.cat([y_ind, y_dep])\n",
    "# w_a = torch.cat([nrea(x_ind), torch.ones(x_dep.shape[0], 1)])\n",
    "w_c = torch.cat([nrec(x_ind), torch.ones(x_dep.shape[0], 1)])\n",
    "w_b = torch.cat([nreb(x_ind), torch.ones(x_dep.shape[0], 1)])\n",
    "\n",
    "with torch.no_grad():\n",
    "    fpr_c, tpr_c, thresholds_c = sklearn.metrics.roc_curve(y, ccc(x).squeeze().sigmoid(), sample_weight=w_c.squeeze())\n",
    "    fpr_b, tpr_b, thresholds_b = sklearn.metrics.roc_curve(y, bbb(x).squeeze().sigmoid(), sample_weight=w_b.squeeze())"
   ]
  },
  {
   "cell_type": "code",
   "execution_count": 26,
   "id": "0babe2c7-958e-4ffe-89c3-df833b513a70",
   "metadata": {},
   "outputs": [
    {
     "data": {
      "image/png": "[encoded data removed]",
      "text/plain": [
       "<Figure size 366x366 with 1 Axes>"
      ]
     },
     "metadata": {},
     "output_type": "display_data"
    }
   ],
   "source": [
    "fig, ax = plt.subplots(figsize=figsize)\n",
    "lw = 2\n",
    "plt.plot([0, 1], [0, 1], color=color_truth, lw=lw, linestyle=\"--\", label=\"Diagonal\")\n",
    "plt.plot(\n",
    "    fpr_c,\n",
    "    tpr_c,\n",
    "    color=color_gilles,\n",
    "    lw=lw,\n",
    "    label=\"NRE-C\"\n",
    "    # label=\"ROC curve (area = %0.2f)\" % roc_auc[2],\n",
    ")\n",
    "plt.plot(\n",
    "    fpr_b,\n",
    "    tpr_b,\n",
    "    color=color_durkan,\n",
    "    lw=lw,\n",
    "    label=\"NRE-B\"\n",
    "    # label=\"ROC curve (area = %0.2f)\" % roc_auc[2],\n",
    ")\n",
    "plt.xlim([0.0, 1.0])\n",
    "plt.ylim([0.0, 1.05])\n",
    "plt.xlabel(\"False Positive Rate\")\n",
    "plt.ylabel(\"True Positive Rate\")\n",
    "# plt.title(\"Receiver operating characteristic\")\n",
    "plt.legend(loc=\"lower right\")\n",
    "plt.tight_layout()\n",
    "\n",
    "plt.savefig(\"importance-diagnostic-roc.pdf\", dpi=300, bbox_inches=\"tight\")"
   ]
  },
  {
   "cell_type": "code",
   "execution_count": null,
   "id": "b0ad6a23-690e-49f6-8e13-aff682542c8c",
   "metadata": {},
   "outputs": [],
   "source": []
  }
 ],
 "metadata": {
  "kernelspec": {
   "display_name": "Python 3 (ipykernel)",
   "language": "python",
   "name": "python3"
  },
  "language_info": {
   "codemirror_mode": {
    "name": "ipython",
    "version": 3
   },
   "file_extension": ".py",
   "mimetype": "text/x-python",
   "name": "python",
   "nbconvert_exporter": "python",
   "pygments_lexer": "ipython3",
   "version": "3.8.19"
  }
 },
 "nbformat": 4,
 "nbformat_minor": 5
}
