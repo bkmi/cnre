{
 "cells": [
  {
   "cell_type": "code",
   "execution_count": 1,
   "id": "eeed1bae-214d-4a71-a854-0df021fe6661",
   "metadata": {},
   "outputs": [],
   "source": [
    "%load_ext autoreload\n",
    "%autoreload 2"
   ]
  },
  {
   "cell_type": "code",
   "execution_count": 2,
   "id": "7226ddd9-c5b9-43c5-8b83-ec05ecbecf46",
   "metadata": {},
   "outputs": [],
   "source": [
    "from functools import partial, cache\n",
    "from copy import deepcopy\n",
    "from pathlib import Path\n",
    "\n",
    "from tqdm.notebook import trange, tqdm\n",
    "\n",
    "import matplotlib.pyplot as plt\n",
    "from matplotlib.colors import BoundaryNorm\n",
    "from matplotlib.ticker import MaxNLocator\n",
    "import numpy as np\n",
    "\n",
    "import scipy\n",
    "import scipy.stats\n",
    "import scipy.integrate\n",
    "\n",
    "import torch\n",
    "import torch.distributions\n",
    "\n",
    "import sbi\n",
    "import sbi.analysis as analysis\n",
    "from sbi.inference import SNRE_A, SNRE_B, prepare_for_sbi\n",
    "from sbi.utils.get_nn_models import classifier_nn\n",
    "\n",
    "import sbibm\n",
    "\n",
    "import cnre"
   ]
  },
  {
   "cell_type": "markdown",
   "id": "e6a5e15f-d12b-4327-a0dc-c90175e90191",
   "metadata": {},
   "source": [
    "## setup problem"
   ]
  },
  {
   "cell_type": "code",
   "execution_count": 3,
   "id": "40202464-7311-4fb3-8e8f-0bbac510d38b",
   "metadata": {},
   "outputs": [],
   "source": [
    "num_training_samples = 10_000\n",
    "num_validation_samples = 10_000\n",
    "num_total_samples = num_training_samples + num_validation_samples\n",
    "num_posterior_samples = 2_000\n",
    "\n",
    "training_batch_size=256\n",
    "learning_rate=1e-4\n",
    "validation_fraction=0.5\n",
    "stop_after_epochs=2 ** 31 - 1\n",
    "# max_num_epochs=1_000  # We want the network to see the same number of batches no matter how much data we provide\n",
    "num_batches_to_see = 100_000\n",
    "clip_max_norm=None\n",
    "\n",
    "classifier_kwargs = dict(\n",
    "    model='resnet', \n",
    "    hidden_features=50, \n",
    "    num_blocks=2,\n",
    "    dropout_probability=0.0,\n",
    "    use_batch_norm=True\n",
    ")\n",
    "sample_with = \"rejection\"\n",
    "\n",
    "device = \"cpu\"\n",
    "root = Path(\"figures\")"
   ]
  },
  {
   "cell_type": "code",
   "execution_count": 4,
   "id": "c4e6df87-299a-42be-831a-4d0611f20d54",
   "metadata": {},
   "outputs": [],
   "source": [
    "kind = \"slcp\"\n",
    "if kind == \"parabola\":\n",
    "    dimension = 3\n",
    "    low = -torch.ones(dimension).mul(3.).sqrt().to(device)\n",
    "    high = torch.ones(dimension).mul(3.).sqrt().to(device)\n",
    "    limits = torch.stack([low.cpu(), high.cpu()], dim=-1).numpy()\n",
    "    prior = sbi.utils.BoxUniform(low=low, high=high, device=device)\n",
    "    task = cnre.Parabola(scale=0.1)\n",
    "    simulate = task.simulate\n",
    "    simulator, prior = prepare_for_sbi(simulate, prior)\n",
    "    true_theta = torch.ones(dimension).to(device).unsqueeze(0)\n",
    "    observation = simulator(true_theta)\n",
    "elif kind == \"gaussian\":\n",
    "    dimension = 3\n",
    "    low = -torch.ones(dimension).mul(3.).sqrt().to(device)\n",
    "    high = torch.ones(dimension).mul(3.).sqrt().to(device)\n",
    "    limits = torch.stack([low.cpu(), high.cpu()], dim=-1).numpy()\n",
    "    prior = sbi.utils.BoxUniform(low=low, high=high, device=device)\n",
    "    task = cnre.Gaussian(scale=0.1)\n",
    "    simulate = task.simulate\n",
    "    simulator, prior = prepare_for_sbi(simulate, prior)\n",
    "    true_theta = torch.ones(dimension).to(device).unsqueeze(0)\n",
    "    observation = simulator(true_theta)\n",
    "elif kind == \"slcp\":\n",
    "    tt = sbibm.get_task(\"slcp\")\n",
    "    num_observation = 1\n",
    "    simulator = tt.get_simulator()\n",
    "    prior = tt.get_prior_dist()\n",
    "    dimension = tt.dim_data\n",
    "    observation = tt.get_observation(num_observation)\n",
    "    true_theta = tt.get_true_parameters(num_observation)\n",
    "else:\n",
    "    raise NotImplementedError\n",
    "\n",
    "\n",
    "theta = prior.sample((num_total_samples,)).to(device)\n",
    "x = simulator(theta).to(device)"
   ]
  },
  {
   "cell_type": "code",
   "execution_count": 5,
   "id": "f92e2fe8-5521-4da7-8f04-c5aa3ae889e3",
   "metadata": {},
   "outputs": [],
   "source": [
    "get_classifier = classifier_nn(**classifier_kwargs)\n",
    "classifier = get_classifier(theta[:512, ...], x[:512, ...])\n",
    "classifier.to(device)\n",
    "\n",
    "# optimizer = torch.optim.SGD(classifier.parameters(), lr=lr, momentum=momentum)\n",
    "optimizer = torch.optim.Adam(classifier.parameters(), lr=learning_rate)"
   ]
  },
  {
   "cell_type": "markdown",
   "id": "2b64269a-e8dd-493d-8433-340418627bf5",
   "metadata": {},
   "source": [
    "## experiment"
   ]
  },
  {
   "cell_type": "code",
   "execution_count": 6,
   "id": "762c39ec-1bec-4321-b8b3-1d868a87b2c6",
   "metadata": {},
   "outputs": [],
   "source": [
    "dataset = torch.utils.data.TensorDataset(theta, x)\n",
    "train_set, valid_set = torch.utils.data.random_split(dataset, [num_training_samples, num_validation_samples])\n",
    "train_loader = torch.utils.data.DataLoader(train_set, training_batch_size, shuffle=True, drop_last=True)\n",
    "valid_loader = torch.utils.data.DataLoader(valid_set, training_batch_size, drop_last=True)"
   ]
  },
  {
   "cell_type": "code",
   "execution_count": 7,
   "id": "90163cea-6271-48bb-b356-3f2d607f7fd3",
   "metadata": {},
   "outputs": [
    {
     "data": {
      "text/plain": [
       "2564"
      ]
     },
     "execution_count": 7,
     "metadata": {},
     "output_type": "execute_result"
    }
   ],
   "source": [
    "max_num_epochs = round(num_batches_to_see / len(train_loader))\n",
    "max_num_epochs"
   ]
  },
  {
   "cell_type": "code",
   "execution_count": 9,
   "id": "f8ebaab8-4f97-41e2-8a18-6be76e839fa2",
   "metadata": {},
   "outputs": [
    {
     "data": {
      "text/plain": [
       "tensor(-1.1921e-07, grad_fn=<SubBackward0>)"
      ]
     },
     "execution_count": 9,
     "metadata": {},
     "output_type": "execute_result"
    }
   ],
   "source": [
    "torch.manual_seed(0)\n",
    "l1 = cnre.loss_bce(classifier, theta[:256], x[:256])\n",
    "torch.manual_seed(0)\n",
    "l2 = cnre.loss(classifier, theta[:256], x[:256], 2, gamma=1.0, reuse=True)\n",
    "\n",
    "# The issue here is that the BCE takes the mean of more terms, my version doesn't do that.\n",
    "# l2 - l1.reshape(-1, 2).sum(dim=-1)\n",
    "l2 - l1 * 2"
   ]
  },
  {
   "cell_type": "code",
   "execution_count": 10,
   "id": "d23c64aa-8613-41cd-8cc8-d89ea108218f",
   "metadata": {},
   "outputs": [
    {
     "ename": "NotImplementedError",
     "evalue": "",
     "output_type": "error",
     "traceback": [
      "\u001b[0;31m---------------------------------------------------------------------------\u001b[0m",
      "\u001b[0;31mNotImplementedError\u001b[0m                       Traceback (most recent call last)",
      "Input \u001b[0;32mIn [10]\u001b[0m, in \u001b[0;36m<cell line: 1>\u001b[0;34m()\u001b[0m\n\u001b[0;32m----> 1\u001b[0m \u001b[38;5;28;01mraise\u001b[39;00m \u001b[38;5;167;01mNotImplementedError\u001b[39;00m()\n",
      "\u001b[0;31mNotImplementedError\u001b[0m: "
     ]
    }
   ],
   "source": [
    "raise NotImplementedError()"
   ]
  },
  {
   "cell_type": "code",
   "execution_count": null,
   "id": "588db164-3db1-4455-bbbb-845efdd3a8b5",
   "metadata": {},
   "outputs": [],
   "source": [
    "num_atoms = 10\n",
    "prior_marginal_to_joint_ratio = cnre.get_prior_marginal_to_joint_ratio(num_atoms)\n",
    "results = cnre.train(\n",
    "    classifier, \n",
    "    optimizer, \n",
    "    max_num_epochs, \n",
    "    train_loader, \n",
    "    valid_loader, \n",
    "    num_atoms, \n",
    "    prior_marginal_to_joint_ratio,\n",
    ")"
   ]
  },
  {
   "cell_type": "code",
   "execution_count": null,
   "id": "c312c275-1684-4c10-ae40-a6207a48ca7d",
   "metadata": {},
   "outputs": [],
   "source": [
    "plt.plot(results['valid_losses'])"
   ]
  },
  {
   "cell_type": "code",
   "execution_count": null,
   "id": "21ef5d16-7de6-4ef0-b320-c7b5850f2515",
   "metadata": {},
   "outputs": [],
   "source": [
    "classifier.load_state_dict(results[\"best_network_state_dict\"])\n",
    "posterior = cnre.get_sbi_posterior(\n",
    "    ratio_estimator=classifier,\n",
    "    x_shape=(1, dimension),\n",
    "    prior=prior,\n",
    "    sample_with=\"rejection\", \n",
    "    mcmc_method=\"slice_np\",\n",
    "    mcmc_parameters={},\n",
    "    rejection_sampling_parameters={},\n",
    ")"
   ]
  },
  {
   "cell_type": "code",
   "execution_count": null,
   "id": "e72bd8a1-24e8-4b4d-9866-b82538ed50be",
   "metadata": {},
   "outputs": [],
   "source": [
    "samples = posterior.sample((num_posterior_samples,), x=observation.cpu())\n",
    "name = f\"num atoms {num_atoms}\"\n",
    "fig, _ = analysis.pairplot(\n",
    "    samples.cpu().numpy(), \n",
    "    figsize=(6,6), \n",
    "    points=true_theta.cpu().numpy(),\n",
    "    title=name,\n",
    "    # limits=limits,\n",
    ")"
   ]
  },
  {
   "cell_type": "code",
   "execution_count": null,
   "id": "6d520bd1-bd63-4727-9be0-da96de5f4e36",
   "metadata": {},
   "outputs": [],
   "source": [
    "name = f\"ref\"\n",
    "fig, _ = analysis.pairplot(\n",
    "    tt.get_reference_posterior_samples(num_observation), \n",
    "    figsize=(6,6), \n",
    "    points=true_theta.cpu().numpy(),\n",
    "    title=name,\n",
    "    # limits=limits,\n",
    ")"
   ]
  },
  {
   "cell_type": "code",
   "execution_count": null,
   "id": "700c5278-d9f6-4fe7-89f1-a4e881c23b0f",
   "metadata": {},
   "outputs": [],
   "source": []
  }
 ],
 "metadata": {
  "kernelspec": {
   "display_name": "Python 3 (ipykernel)",
   "language": "python",
   "name": "python3"
  },
  "language_info": {
   "codemirror_mode": {
    "name": "ipython",
    "version": 3
   },
   "file_extension": ".py",
   "mimetype": "text/x-python",
   "name": "python",
   "nbconvert_exporter": "python",
   "pygments_lexer": "ipython3",
   "version": "3.9.7"
  }
 },
 "nbformat": 4,
 "nbformat_minor": 5
}
