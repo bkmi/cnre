{
 "cells": [
  {
   "cell_type": "code",
   "execution_count": 1,
   "id": "d1dea75c-b661-4bba-833c-c6e640025cc2",
   "metadata": {},
   "outputs": [],
   "source": [
    "%load_ext autoreload\n",
    "%autoreload 2"
   ]
  },
  {
   "cell_type": "code",
   "execution_count": 2,
   "id": "766fba99-6547-4507-a4e1-62a8ce074a18",
   "metadata": {},
   "outputs": [],
   "source": [
    "from pathlib import Path\n",
    "from itertools import product\n",
    "from typing import Tuple\n",
    "\n",
    "import matplotlib.pyplot as plt\n",
    "from matplotlib.colors import LogNorm\n",
    "\n",
    "import pandas as pd\n",
    "import seaborn as sns\n",
    "\n",
    "import sbibm\n",
    "from sbibm.utils.io import get_tensor_from_csv\n",
    "\n",
    "import sbi.analysis as analysis\n",
    "\n",
    "from notebook import nre_gamma_default, wide_to_long"
   ]
  },
  {
   "cell_type": "code",
   "execution_count": 3,
   "id": "31f75499-776b-401c-ae0d-00e9f01e5caf",
   "metadata": {},
   "outputs": [],
   "source": [
    "nre_gamma_default = float(\"Inf\")"
   ]
  },
  {
   "cell_type": "markdown",
   "id": "42212745-cdb4-44d4-afb5-da5ca4eac4f1",
   "metadata": {},
   "source": [
    "## what do we expect for experiments"
   ]
  },
  {
   "cell_type": "code",
   "execution_count": 4,
   "id": "baeb013e-74d3-4d3f-afac-a96edd54f2f8",
   "metadata": {},
   "outputs": [],
   "source": [
    "columns = ['task', 'num_observation', 'algorithm', 'num_contrastive_parameters', 'gamma', 'num_blocks']\n",
    "\n",
    "# general for nre\n",
    "# tasks = sbibm.get_available_tasks()\n",
    "tasks = ['slcp', 'two_moons', 'gaussian_mixture']\n",
    "num_observation = list(range(1,11))\n",
    "num_contrastive_parameters = [2, 10, 25, 50, 75, 100, 150, 200]\n",
    "num_blocks = [2, 3]\n",
    "\n",
    "# for cnre\n",
    "gammas = [0.001, 0.01, 0.1, 1.0, 10.0, 100.0]"
   ]
  },
  {
   "cell_type": "code",
   "execution_count": 5,
   "id": "b10853df-088a-45f2-9794-4092e5780281",
   "metadata": {},
   "outputs": [
    {
     "name": "stdout",
     "output_type": "stream",
     "text": [
      "cnre:  2880\n",
      "nre:  480\n",
      "total:  3360\n"
     ]
    }
   ],
   "source": [
    "experiments_cnre = list(product(tasks, num_observation, ['CNRE'], num_contrastive_parameters, gammas, num_blocks))\n",
    "df_cnre = pd.DataFrame(data=experiments_cnre, columns=columns)\n",
    "print(\"cnre: \", len(df_cnre))\n",
    "\n",
    "experiments_nre = list(product(tasks, num_observation, ['NRE-B'], num_contrastive_parameters, [nre_gamma_default], num_blocks))\n",
    "df_nre = pd.DataFrame(data=experiments_nre, columns=columns)\n",
    "print(\"nre: \", len(df_nre))\n",
    "\n",
    "df_ref = pd.concat([df_cnre, df_nre])\n",
    "print(\"total: \", len(df_ref))\n",
    "df_ref\n",
    "df_ref.to_csv(\"experiment-reference.csv\")"
   ]
  },
  {
   "cell_type": "markdown",
   "id": "25c1d1c9-23fe-4b9f-97fc-24fcc68a0bf5",
   "metadata": {},
   "source": [
    "## loading files"
   ]
  },
  {
   "cell_type": "code",
   "execution_count": 6,
   "id": "4be5a46d-55bd-4adb-8b46-517aede06fa7",
   "metadata": {},
   "outputs": [],
   "source": [
    "files = [\n",
    "    \"metrics-joint.csv\",\n",
    "]\n",
    "df_joint = pd.concat([pd.read_csv(file, index_col=0) for file in files], ignore_index=True)\n",
    "df_joint_wide, gpr_joint = wide_to_long(df_joint)"
   ]
  },
  {
   "cell_type": "code",
   "execution_count": 7,
   "id": "cc3530f6-d0e4-48e7-8d1a-f746b8aaf675",
   "metadata": {},
   "outputs": [],
   "source": [
    "files = [\n",
    "    \"metrics-prior.csv\",\n",
    "]\n",
    "df_prior = pd.concat([pd.read_csv(file, index_col=0) for file in files], ignore_index=True)\n",
    "df_prior_wide, gpr_prior = wide_to_long(df_prior)"
   ]
  },
  {
   "cell_type": "code",
   "execution_count": 8,
   "id": "c173f3d5-54cc-4fd4-ac85-a5592b96daf9",
   "metadata": {},
   "outputs": [],
   "source": [
    "files = [\n",
    "    \"metrics-bench.csv\",\n",
    "]\n",
    "df_bench = pd.concat([pd.read_csv(file, index_col=0) for file in files], ignore_index=True)\n",
    "df_bench_wide, gpr_bench = wide_to_long(df_bench)"
   ]
  },
  {
   "cell_type": "markdown",
   "id": "4b68e5d0-b6a2-409a-8978-4bee285b0098",
   "metadata": {
    "tags": []
   },
   "source": [
    "## what's missing?"
   ]
  },
  {
   "cell_type": "code",
   "execution_count": 9,
   "id": "7c6ab6d5-b5f2-44c9-a22c-fb5d40d18dcf",
   "metadata": {},
   "outputs": [],
   "source": [
    "def get_missing_experiments(expr: pd.DataFrame, ref: pd.DataFrame = df_ref) -> pd.DataFrame:\n",
    "    merge_df = ref.merge(expr, how='left', indicator=True)\n",
    "    merge_df = merge_df[merge_df['_merge'] == 'left_only']\n",
    "    return merge_df.drop(\"_merge\", axis=1)"
   ]
  },
  {
   "cell_type": "code",
   "execution_count": 10,
   "id": "81688c5e-7c9e-45f4-9106-bc4921bca52f",
   "metadata": {},
   "outputs": [
    {
     "name": "stdout",
     "output_type": "stream",
     "text": [
      "[]\n",
      "[]\n",
      "[]\n",
      "[]\n",
      "[]\n"
     ]
    },
    {
     "data": {
      "text/html": [
       "<div>\n",
       "<style scoped>\n",
       "    .dataframe tbody tr th:only-of-type {\n",
       "        vertical-align: middle;\n",
       "    }\n",
       "\n",
       "    .dataframe tbody tr th {\n",
       "        vertical-align: top;\n",
       "    }\n",
       "\n",
       "    .dataframe thead th {\n",
       "        text-align: right;\n",
       "    }\n",
       "</style>\n",
       "<table border=\"1\" class=\"dataframe\">\n",
       "  <thead>\n",
       "    <tr style=\"text-align: right;\">\n",
       "      <th></th>\n",
       "      <th>task</th>\n",
       "      <th>num_observation</th>\n",
       "      <th>algorithm</th>\n",
       "      <th>num_contrastive_parameters</th>\n",
       "      <th>gamma</th>\n",
       "      <th>num_blocks</th>\n",
       "    </tr>\n",
       "  </thead>\n",
       "  <tbody>\n",
       "  </tbody>\n",
       "</table>\n",
       "</div>"
      ],
      "text/plain": [
       "Empty DataFrame\n",
       "Columns: [task, num_observation, algorithm, num_contrastive_parameters, gamma, num_blocks]\n",
       "Index: []"
      ]
     },
     "execution_count": 10,
     "metadata": {},
     "output_type": "execute_result"
    }
   ],
   "source": [
    "df_joint_to_check = df_joint_wide.reset_index()[columns].drop_duplicates()\n",
    "df_joint_missing = get_missing_experiments(df_joint_to_check)\n",
    "print(df_joint_missing[\"task\"].unique())\n",
    "print(df_joint_missing[\"num_observation\"].unique())\n",
    "print(df_joint_missing[\"algorithm\"].unique())\n",
    "print(df_joint_missing[\"gamma\"].unique())\n",
    "print(df_joint_missing[\"num_blocks\"].unique())\n",
    "df_joint_missing"
   ]
  },
  {
   "cell_type": "code",
   "execution_count": 11,
   "id": "4552f97f-26d0-4edf-a5c2-72979e30b65e",
   "metadata": {},
   "outputs": [
    {
     "name": "stdout",
     "output_type": "stream",
     "text": [
      "[]\n",
      "[]\n",
      "[]\n",
      "[]\n",
      "[]\n"
     ]
    },
    {
     "data": {
      "text/html": [
       "<div>\n",
       "<style scoped>\n",
       "    .dataframe tbody tr th:only-of-type {\n",
       "        vertical-align: middle;\n",
       "    }\n",
       "\n",
       "    .dataframe tbody tr th {\n",
       "        vertical-align: top;\n",
       "    }\n",
       "\n",
       "    .dataframe thead th {\n",
       "        text-align: right;\n",
       "    }\n",
       "</style>\n",
       "<table border=\"1\" class=\"dataframe\">\n",
       "  <thead>\n",
       "    <tr style=\"text-align: right;\">\n",
       "      <th></th>\n",
       "      <th>task</th>\n",
       "      <th>num_observation</th>\n",
       "      <th>algorithm</th>\n",
       "      <th>num_contrastive_parameters</th>\n",
       "      <th>gamma</th>\n",
       "      <th>num_blocks</th>\n",
       "    </tr>\n",
       "  </thead>\n",
       "  <tbody>\n",
       "  </tbody>\n",
       "</table>\n",
       "</div>"
      ],
      "text/plain": [
       "Empty DataFrame\n",
       "Columns: [task, num_observation, algorithm, num_contrastive_parameters, gamma, num_blocks]\n",
       "Index: []"
      ]
     },
     "execution_count": 11,
     "metadata": {},
     "output_type": "execute_result"
    }
   ],
   "source": [
    "df_prior_to_check = df_prior_wide.reset_index()[columns].drop_duplicates()\n",
    "df_prior_missing = get_missing_experiments(df_prior_to_check)\n",
    "print(df_prior_missing[\"task\"].unique())\n",
    "print(df_prior_missing[\"num_observation\"].unique())\n",
    "print(df_prior_missing[\"algorithm\"].unique())\n",
    "print(df_prior_missing[\"gamma\"].unique())\n",
    "print(df_prior_missing[\"num_blocks\"].unique())\n",
    "df_prior_missing"
   ]
  },
  {
   "cell_type": "code",
   "execution_count": 12,
   "id": "2294b190-fa14-40d7-827d-865e3abaac8c",
   "metadata": {},
   "outputs": [
    {
     "name": "stdout",
     "output_type": "stream",
     "text": [
      "[]\n",
      "[]\n",
      "[]\n",
      "[]\n",
      "[]\n"
     ]
    },
    {
     "data": {
      "text/html": [
       "<div>\n",
       "<style scoped>\n",
       "    .dataframe tbody tr th:only-of-type {\n",
       "        vertical-align: middle;\n",
       "    }\n",
       "\n",
       "    .dataframe tbody tr th {\n",
       "        vertical-align: top;\n",
       "    }\n",
       "\n",
       "    .dataframe thead th {\n",
       "        text-align: right;\n",
       "    }\n",
       "</style>\n",
       "<table border=\"1\" class=\"dataframe\">\n",
       "  <thead>\n",
       "    <tr style=\"text-align: right;\">\n",
       "      <th></th>\n",
       "      <th>task</th>\n",
       "      <th>num_observation</th>\n",
       "      <th>algorithm</th>\n",
       "      <th>num_contrastive_parameters</th>\n",
       "      <th>gamma</th>\n",
       "      <th>num_blocks</th>\n",
       "    </tr>\n",
       "  </thead>\n",
       "  <tbody>\n",
       "  </tbody>\n",
       "</table>\n",
       "</div>"
      ],
      "text/plain": [
       "Empty DataFrame\n",
       "Columns: [task, num_observation, algorithm, num_contrastive_parameters, gamma, num_blocks]\n",
       "Index: []"
      ]
     },
     "execution_count": 12,
     "metadata": {},
     "output_type": "execute_result"
    }
   ],
   "source": [
    "df_bench_to_check = df_bench_wide.reset_index()[columns].drop_duplicates()\n",
    "df_bench_missing = get_missing_experiments(df_bench_to_check)\n",
    "print(df_bench_missing[\"task\"].unique())\n",
    "print(df_bench_missing[\"num_observation\"].unique())\n",
    "print(df_bench_missing[\"algorithm\"].unique())\n",
    "print(df_bench_missing[\"gamma\"].unique())\n",
    "print(df_bench_missing[\"num_blocks\"].unique())\n",
    "df_bench_missing"
   ]
  },
  {
   "cell_type": "markdown",
   "id": "7957984c-0246-420d-bafd-dfd67e4e317e",
   "metadata": {},
   "source": [
    "## what only has a single initialization?"
   ]
  },
  {
   "cell_type": "code",
   "execution_count": 13,
   "id": "d3d9fb2c-9040-4184-b63e-5eedf9453e0b",
   "metadata": {},
   "outputs": [
    {
     "name": "stdout",
     "output_type": "stream",
     "text": [
      "[1 2]\n"
     ]
    },
    {
     "data": {
      "text/html": [
       "<div>\n",
       "<style scoped>\n",
       "    .dataframe tbody tr th:only-of-type {\n",
       "        vertical-align: middle;\n",
       "    }\n",
       "\n",
       "    .dataframe tbody tr th {\n",
       "        vertical-align: top;\n",
       "    }\n",
       "\n",
       "    .dataframe thead th {\n",
       "        text-align: right;\n",
       "    }\n",
       "</style>\n",
       "<table border=\"1\" class=\"dataframe\">\n",
       "  <thead>\n",
       "    <tr style=\"text-align: right;\">\n",
       "      <th></th>\n",
       "      <th>task</th>\n",
       "      <th>num_observation</th>\n",
       "      <th>algorithm</th>\n",
       "      <th>num_contrastive_parameters</th>\n",
       "      <th>gamma</th>\n",
       "      <th>num_blocks</th>\n",
       "      <th>size</th>\n",
       "    </tr>\n",
       "  </thead>\n",
       "  <tbody>\n",
       "    <tr>\n",
       "      <th>96</th>\n",
       "      <td>gaussian_mixture</td>\n",
       "      <td>1</td>\n",
       "      <td>NRE-B</td>\n",
       "      <td>2</td>\n",
       "      <td>inf</td>\n",
       "      <td>2</td>\n",
       "      <td>2</td>\n",
       "    </tr>\n",
       "    <tr>\n",
       "      <th>98</th>\n",
       "      <td>gaussian_mixture</td>\n",
       "      <td>1</td>\n",
       "      <td>NRE-B</td>\n",
       "      <td>10</td>\n",
       "      <td>inf</td>\n",
       "      <td>2</td>\n",
       "      <td>2</td>\n",
       "    </tr>\n",
       "    <tr>\n",
       "      <th>100</th>\n",
       "      <td>gaussian_mixture</td>\n",
       "      <td>1</td>\n",
       "      <td>NRE-B</td>\n",
       "      <td>25</td>\n",
       "      <td>inf</td>\n",
       "      <td>2</td>\n",
       "      <td>2</td>\n",
       "    </tr>\n",
       "    <tr>\n",
       "      <th>102</th>\n",
       "      <td>gaussian_mixture</td>\n",
       "      <td>1</td>\n",
       "      <td>NRE-B</td>\n",
       "      <td>50</td>\n",
       "      <td>inf</td>\n",
       "      <td>2</td>\n",
       "      <td>2</td>\n",
       "    </tr>\n",
       "    <tr>\n",
       "      <th>104</th>\n",
       "      <td>gaussian_mixture</td>\n",
       "      <td>1</td>\n",
       "      <td>NRE-B</td>\n",
       "      <td>75</td>\n",
       "      <td>inf</td>\n",
       "      <td>2</td>\n",
       "      <td>2</td>\n",
       "    </tr>\n",
       "    <tr>\n",
       "      <th>...</th>\n",
       "      <td>...</td>\n",
       "      <td>...</td>\n",
       "      <td>...</td>\n",
       "      <td>...</td>\n",
       "      <td>...</td>\n",
       "      <td>...</td>\n",
       "      <td>...</td>\n",
       "    </tr>\n",
       "    <tr>\n",
       "      <th>3350</th>\n",
       "      <td>two_moons</td>\n",
       "      <td>10</td>\n",
       "      <td>NRE-B</td>\n",
       "      <td>50</td>\n",
       "      <td>inf</td>\n",
       "      <td>2</td>\n",
       "      <td>2</td>\n",
       "    </tr>\n",
       "    <tr>\n",
       "      <th>3352</th>\n",
       "      <td>two_moons</td>\n",
       "      <td>10</td>\n",
       "      <td>NRE-B</td>\n",
       "      <td>75</td>\n",
       "      <td>inf</td>\n",
       "      <td>2</td>\n",
       "      <td>2</td>\n",
       "    </tr>\n",
       "    <tr>\n",
       "      <th>3354</th>\n",
       "      <td>two_moons</td>\n",
       "      <td>10</td>\n",
       "      <td>NRE-B</td>\n",
       "      <td>100</td>\n",
       "      <td>inf</td>\n",
       "      <td>2</td>\n",
       "      <td>2</td>\n",
       "    </tr>\n",
       "    <tr>\n",
       "      <th>3356</th>\n",
       "      <td>two_moons</td>\n",
       "      <td>10</td>\n",
       "      <td>NRE-B</td>\n",
       "      <td>150</td>\n",
       "      <td>inf</td>\n",
       "      <td>2</td>\n",
       "      <td>2</td>\n",
       "    </tr>\n",
       "    <tr>\n",
       "      <th>3358</th>\n",
       "      <td>two_moons</td>\n",
       "      <td>10</td>\n",
       "      <td>NRE-B</td>\n",
       "      <td>200</td>\n",
       "      <td>inf</td>\n",
       "      <td>2</td>\n",
       "      <td>2</td>\n",
       "    </tr>\n",
       "  </tbody>\n",
       "</table>\n",
       "<p>410 rows × 7 columns</p>\n",
       "</div>"
      ],
      "text/plain": [
       "                  task  num_observation algorithm  num_contrastive_parameters  \\\n",
       "96    gaussian_mixture                1     NRE-B                           2   \n",
       "98    gaussian_mixture                1     NRE-B                          10   \n",
       "100   gaussian_mixture                1     NRE-B                          25   \n",
       "102   gaussian_mixture                1     NRE-B                          50   \n",
       "104   gaussian_mixture                1     NRE-B                          75   \n",
       "...                ...              ...       ...                         ...   \n",
       "3350         two_moons               10     NRE-B                          50   \n",
       "3352         two_moons               10     NRE-B                          75   \n",
       "3354         two_moons               10     NRE-B                         100   \n",
       "3356         two_moons               10     NRE-B                         150   \n",
       "3358         two_moons               10     NRE-B                         200   \n",
       "\n",
       "      gamma  num_blocks  size  \n",
       "96      inf           2     2  \n",
       "98      inf           2     2  \n",
       "100     inf           2     2  \n",
       "102     inf           2     2  \n",
       "104     inf           2     2  \n",
       "...     ...         ...   ...  \n",
       "3350    inf           2     2  \n",
       "3352    inf           2     2  \n",
       "3354    inf           2     2  \n",
       "3356    inf           2     2  \n",
       "3358    inf           2     2  \n",
       "\n",
       "[410 rows x 7 columns]"
      ]
     },
     "execution_count": 13,
     "metadata": {},
     "output_type": "execute_result"
    }
   ],
   "source": [
    "df_joint_wide_counts = df_joint_wide.groupby(columns, as_index=False).size()\n",
    "print(df_joint_wide_counts[\"size\"].unique())\n",
    "df_joint_wide_counts[df_joint_wide_counts[\"size\"] == 1]\n",
    "df_joint_wide_counts[df_joint_wide_counts[\"size\"] > 1]"
   ]
  },
  {
   "cell_type": "code",
   "execution_count": 14,
   "id": "e740337e-aac1-44ed-828a-2e08fd7aedb0",
   "metadata": {},
   "outputs": [
    {
     "name": "stdout",
     "output_type": "stream",
     "text": [
      "[1]\n"
     ]
    },
    {
     "data": {
      "text/html": [
       "<div>\n",
       "<style scoped>\n",
       "    .dataframe tbody tr th:only-of-type {\n",
       "        vertical-align: middle;\n",
       "    }\n",
       "\n",
       "    .dataframe tbody tr th {\n",
       "        vertical-align: top;\n",
       "    }\n",
       "\n",
       "    .dataframe thead th {\n",
       "        text-align: right;\n",
       "    }\n",
       "</style>\n",
       "<table border=\"1\" class=\"dataframe\">\n",
       "  <thead>\n",
       "    <tr style=\"text-align: right;\">\n",
       "      <th></th>\n",
       "      <th>task</th>\n",
       "      <th>num_observation</th>\n",
       "      <th>algorithm</th>\n",
       "      <th>num_contrastive_parameters</th>\n",
       "      <th>gamma</th>\n",
       "      <th>num_blocks</th>\n",
       "      <th>size</th>\n",
       "    </tr>\n",
       "  </thead>\n",
       "  <tbody>\n",
       "  </tbody>\n",
       "</table>\n",
       "</div>"
      ],
      "text/plain": [
       "Empty DataFrame\n",
       "Columns: [task, num_observation, algorithm, num_contrastive_parameters, gamma, num_blocks, size]\n",
       "Index: []"
      ]
     },
     "execution_count": 14,
     "metadata": {},
     "output_type": "execute_result"
    }
   ],
   "source": [
    "df_prior_wide_counts = df_prior_wide.groupby(columns, as_index=False).size()\n",
    "print(df_prior_wide_counts[\"size\"].unique())\n",
    "df_prior_wide_counts[df_prior_wide_counts[\"size\"] == 1]\n",
    "df_prior_wide_counts[df_prior_wide_counts[\"size\"] > 1]"
   ]
  },
  {
   "cell_type": "code",
   "execution_count": 15,
   "id": "826e6ee3-3a2c-4218-bc81-4386887a088b",
   "metadata": {},
   "outputs": [
    {
     "name": "stdout",
     "output_type": "stream",
     "text": [
      "[3 2]\n"
     ]
    },
    {
     "data": {
      "text/html": [
       "<div>\n",
       "<style scoped>\n",
       "    .dataframe tbody tr th:only-of-type {\n",
       "        vertical-align: middle;\n",
       "    }\n",
       "\n",
       "    .dataframe tbody tr th {\n",
       "        vertical-align: top;\n",
       "    }\n",
       "\n",
       "    .dataframe thead th {\n",
       "        text-align: right;\n",
       "    }\n",
       "</style>\n",
       "<table border=\"1\" class=\"dataframe\">\n",
       "  <thead>\n",
       "    <tr style=\"text-align: right;\">\n",
       "      <th></th>\n",
       "      <th>task</th>\n",
       "      <th>num_observation</th>\n",
       "      <th>algorithm</th>\n",
       "      <th>num_contrastive_parameters</th>\n",
       "      <th>gamma</th>\n",
       "      <th>num_blocks</th>\n",
       "      <th>size</th>\n",
       "    </tr>\n",
       "  </thead>\n",
       "  <tbody>\n",
       "    <tr>\n",
       "      <th>0</th>\n",
       "      <td>gaussian_mixture</td>\n",
       "      <td>1</td>\n",
       "      <td>CNRE</td>\n",
       "      <td>2</td>\n",
       "      <td>0.001</td>\n",
       "      <td>2</td>\n",
       "      <td>3</td>\n",
       "    </tr>\n",
       "    <tr>\n",
       "      <th>1</th>\n",
       "      <td>gaussian_mixture</td>\n",
       "      <td>1</td>\n",
       "      <td>CNRE</td>\n",
       "      <td>2</td>\n",
       "      <td>0.001</td>\n",
       "      <td>3</td>\n",
       "      <td>3</td>\n",
       "    </tr>\n",
       "    <tr>\n",
       "      <th>2</th>\n",
       "      <td>gaussian_mixture</td>\n",
       "      <td>1</td>\n",
       "      <td>CNRE</td>\n",
       "      <td>2</td>\n",
       "      <td>0.010</td>\n",
       "      <td>2</td>\n",
       "      <td>3</td>\n",
       "    </tr>\n",
       "    <tr>\n",
       "      <th>3</th>\n",
       "      <td>gaussian_mixture</td>\n",
       "      <td>1</td>\n",
       "      <td>CNRE</td>\n",
       "      <td>2</td>\n",
       "      <td>0.010</td>\n",
       "      <td>3</td>\n",
       "      <td>3</td>\n",
       "    </tr>\n",
       "    <tr>\n",
       "      <th>4</th>\n",
       "      <td>gaussian_mixture</td>\n",
       "      <td>1</td>\n",
       "      <td>CNRE</td>\n",
       "      <td>2</td>\n",
       "      <td>0.100</td>\n",
       "      <td>2</td>\n",
       "      <td>3</td>\n",
       "    </tr>\n",
       "    <tr>\n",
       "      <th>...</th>\n",
       "      <td>...</td>\n",
       "      <td>...</td>\n",
       "      <td>...</td>\n",
       "      <td>...</td>\n",
       "      <td>...</td>\n",
       "      <td>...</td>\n",
       "      <td>...</td>\n",
       "    </tr>\n",
       "    <tr>\n",
       "      <th>3355</th>\n",
       "      <td>two_moons</td>\n",
       "      <td>10</td>\n",
       "      <td>NRE-B</td>\n",
       "      <td>100</td>\n",
       "      <td>inf</td>\n",
       "      <td>3</td>\n",
       "      <td>3</td>\n",
       "    </tr>\n",
       "    <tr>\n",
       "      <th>3356</th>\n",
       "      <td>two_moons</td>\n",
       "      <td>10</td>\n",
       "      <td>NRE-B</td>\n",
       "      <td>150</td>\n",
       "      <td>inf</td>\n",
       "      <td>2</td>\n",
       "      <td>2</td>\n",
       "    </tr>\n",
       "    <tr>\n",
       "      <th>3357</th>\n",
       "      <td>two_moons</td>\n",
       "      <td>10</td>\n",
       "      <td>NRE-B</td>\n",
       "      <td>150</td>\n",
       "      <td>inf</td>\n",
       "      <td>3</td>\n",
       "      <td>3</td>\n",
       "    </tr>\n",
       "    <tr>\n",
       "      <th>3358</th>\n",
       "      <td>two_moons</td>\n",
       "      <td>10</td>\n",
       "      <td>NRE-B</td>\n",
       "      <td>200</td>\n",
       "      <td>inf</td>\n",
       "      <td>2</td>\n",
       "      <td>2</td>\n",
       "    </tr>\n",
       "    <tr>\n",
       "      <th>3359</th>\n",
       "      <td>two_moons</td>\n",
       "      <td>10</td>\n",
       "      <td>NRE-B</td>\n",
       "      <td>200</td>\n",
       "      <td>inf</td>\n",
       "      <td>3</td>\n",
       "      <td>3</td>\n",
       "    </tr>\n",
       "  </tbody>\n",
       "</table>\n",
       "<p>3360 rows × 7 columns</p>\n",
       "</div>"
      ],
      "text/plain": [
       "                  task  num_observation algorithm  num_contrastive_parameters  \\\n",
       "0     gaussian_mixture                1      CNRE                           2   \n",
       "1     gaussian_mixture                1      CNRE                           2   \n",
       "2     gaussian_mixture                1      CNRE                           2   \n",
       "3     gaussian_mixture                1      CNRE                           2   \n",
       "4     gaussian_mixture                1      CNRE                           2   \n",
       "...                ...              ...       ...                         ...   \n",
       "3355         two_moons               10     NRE-B                         100   \n",
       "3356         two_moons               10     NRE-B                         150   \n",
       "3357         two_moons               10     NRE-B                         150   \n",
       "3358         two_moons               10     NRE-B                         200   \n",
       "3359         two_moons               10     NRE-B                         200   \n",
       "\n",
       "      gamma  num_blocks  size  \n",
       "0     0.001           2     3  \n",
       "1     0.001           3     3  \n",
       "2     0.010           2     3  \n",
       "3     0.010           3     3  \n",
       "4     0.100           2     3  \n",
       "...     ...         ...   ...  \n",
       "3355    inf           3     3  \n",
       "3356    inf           2     2  \n",
       "3357    inf           3     3  \n",
       "3358    inf           2     2  \n",
       "3359    inf           3     3  \n",
       "\n",
       "[3360 rows x 7 columns]"
      ]
     },
     "execution_count": 15,
     "metadata": {},
     "output_type": "execute_result"
    }
   ],
   "source": [
    "df_bench_wide_counts = df_bench_wide.groupby(columns, as_index=False).size()\n",
    "print(df_bench_wide_counts[\"size\"].unique())\n",
    "df_bench_wide_counts[df_bench_wide_counts[\"size\"] == 1]\n",
    "df_bench_wide_counts[df_bench_wide_counts[\"size\"] > 1]"
   ]
  },
  {
   "cell_type": "code",
   "execution_count": null,
   "id": "ac5c02f4-7f22-42b0-92a7-c42d2cee68f1",
   "metadata": {},
   "outputs": [],
   "source": []
  }
 ],
 "metadata": {
  "kernelspec": {
   "display_name": "Python 3 (ipykernel)",
   "language": "python",
   "name": "python3"
  },
  "language_info": {
   "codemirror_mode": {
    "name": "ipython",
    "version": 3
   },
   "file_extension": ".py",
   "mimetype": "text/x-python",
   "name": "python",
   "nbconvert_exporter": "python",
   "pygments_lexer": "ipython3",
   "version": "3.9.7"
  }
 },
 "nbformat": 4,
 "nbformat_minor": 5
}
